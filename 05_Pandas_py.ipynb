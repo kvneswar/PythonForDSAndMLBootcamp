{
  "nbformat": 4,
  "nbformat_minor": 0,
  "metadata": {
    "colab": {
      "provenance": [],
      "authorship_tag": "ABX9TyOrlDmaBa1RbPVgCTLYdBr7",
      "include_colab_link": true
    },
    "kernelspec": {
      "name": "python3",
      "display_name": "Python 3"
    },
    "language_info": {
      "name": "python"
    }
  },
  "cells": [
    {
      "cell_type": "markdown",
      "metadata": {
        "id": "view-in-github",
        "colab_type": "text"
      },
      "source": [
        "<a href=\"https://colab.research.google.com/github/kvneswar/PythonForDSAndMLBootcamp/blob/main/05_Pandas_py.ipynb\" target=\"_parent\"><img src=\"https://colab.research.google.com/assets/colab-badge.svg\" alt=\"Open In Colab\"/></a>"
      ]
    },
    {
      "cell_type": "code",
      "execution_count": 36,
      "metadata": {
        "id": "gEVVKuVclAmx"
      },
      "outputs": [],
      "source": [
        "import numpy as np\n",
        "import pandas as pd"
      ]
    },
    {
      "cell_type": "code",
      "source": [
        "lables = ['a', 'b', 'c']\n",
        "\n",
        "my_data = [10, 20, 30]\n",
        "\n",
        "arr = np.array(my_data)\n",
        "\n",
        "d = {'a': 10, 'b': 20, 'c':30}"
      ],
      "metadata": {
        "id": "ySz7VDi2bkBK"
      },
      "execution_count": 37,
      "outputs": []
    },
    {
      "cell_type": "markdown",
      "source": [
        "Series"
      ],
      "metadata": {
        "id": "2_YQJQBmcNvF"
      }
    },
    {
      "cell_type": "code",
      "source": [
        "print(pd.Series(data = my_data))\n",
        "\n",
        "print(pd.Series(data = my_data, index=lables))\n",
        "\n",
        "print(pd.Series(data = arr, index=lables))\n",
        "\n",
        "print(pd.Series(d))"
      ],
      "metadata": {
        "colab": {
          "base_uri": "https://localhost:8080/"
        },
        "id": "39Y34rAPcPxq",
        "outputId": "1020399e-487e-4431-8bb9-4c0fe41d407c"
      },
      "execution_count": 38,
      "outputs": [
        {
          "output_type": "stream",
          "name": "stdout",
          "text": [
            "0    10\n",
            "1    20\n",
            "2    30\n",
            "dtype: int64\n",
            "a    10\n",
            "b    20\n",
            "c    30\n",
            "dtype: int64\n",
            "a    10\n",
            "b    20\n",
            "c    30\n",
            "dtype: int64\n",
            "a    10\n",
            "b    20\n",
            "c    30\n",
            "dtype: int64\n"
          ]
        }
      ]
    },
    {
      "cell_type": "code",
      "source": [
        "ser1 = pd.Series([1, 2, 3], ['India', 'USA', 'China'])\n",
        "ser2 = pd.Series([1, 2, 4], ['India', 'USA', 'Italy'])\n",
        "\n",
        "print(ser1)\n",
        "\n",
        "print(ser1['India'])\n",
        "\n",
        "#Performs the mathematical operations based on the index, if the common index not found then null/Nan will be returned\n",
        "print(ser1 + ser2)\n",
        "print(ser1 - ser2)"
      ],
      "metadata": {
        "colab": {
          "base_uri": "https://localhost:8080/"
        },
        "id": "AFQlKxLqjnQd",
        "outputId": "55e9aa49-1f4d-4513-c2c8-febb9e90d7fc"
      },
      "execution_count": 39,
      "outputs": [
        {
          "output_type": "stream",
          "name": "stdout",
          "text": [
            "India    1\n",
            "USA      2\n",
            "China    3\n",
            "dtype: int64\n",
            "1\n",
            "China    NaN\n",
            "India    2.0\n",
            "Italy    NaN\n",
            "USA      4.0\n",
            "dtype: float64\n",
            "China    NaN\n",
            "India    0.0\n",
            "Italy    NaN\n",
            "USA      0.0\n",
            "dtype: float64\n"
          ]
        }
      ]
    },
    {
      "cell_type": "markdown",
      "source": [
        "Data Frames"
      ],
      "metadata": {
        "id": "jEXS6oZlusf6"
      }
    },
    {
      "cell_type": "code",
      "source": [
        "dataFrame1 = pd.DataFrame([['John', 20], ['Jane', 25], ['Mike', 30], ['Emily', 35]])\n",
        "\n",
        "print(dataFrame1)\n",
        "\n",
        "dataFrame1_1 = pd.DataFrame(data = [['John', 20], ['Jane', 25], ['Mike', 30], ['Emily', 35]], \n",
        "                            index = ['Person1', 'Person2', 'Person3', 'Person4'], \n",
        "                            columns = ['Name', 'Age'])\n",
        "\n",
        "print(dataFrame1_1)\n",
        "\n",
        "dataFrame2 = pd.DataFrame({'Name': ['John', 'Jane', 'Mike', 'Emily'], \n",
        "                           'age': [20, 25, 30, 35],\n",
        "                           'city': ['NewYork', 'London', 'Paris', 'Sydney']})\n",
        "print(dataFrame2)\n",
        "\n",
        "dataFrame3 = pd.DataFrame({'Name': ['John', 'Jane', 'Mike', 'Emily'], \n",
        "                           'age': [20, 25, 30, 35],\n",
        "                           'city': ['NewYork', 'London', 'Paris', 'Sydney']},\n",
        "                          ['person1', 'person2', 'person3', 'person4'])\n",
        "print(dataFrame3)\n",
        "\n",
        "#Each column in a data frame is SERIES\n",
        "\n",
        "print(type(dataFrame3['Name']))\n",
        "print(dataFrame3['Name']['person1'])\n",
        "\n",
        "print(dataFrame3[['Name', 'age']])"
      ],
      "metadata": {
        "colab": {
          "base_uri": "https://localhost:8080/"
        },
        "id": "irDeMDq6uutN",
        "outputId": "fbf024c8-1dc9-44fa-aa08-2897b10a9ae1"
      },
      "execution_count": 40,
      "outputs": [
        {
          "output_type": "stream",
          "name": "stdout",
          "text": [
            "       0   1\n",
            "0   John  20\n",
            "1   Jane  25\n",
            "2   Mike  30\n",
            "3  Emily  35\n",
            "          Name  Age\n",
            "Person1   John   20\n",
            "Person2   Jane   25\n",
            "Person3   Mike   30\n",
            "Person4  Emily   35\n",
            "    Name  age     city\n",
            "0   John   20  NewYork\n",
            "1   Jane   25   London\n",
            "2   Mike   30    Paris\n",
            "3  Emily   35   Sydney\n",
            "          Name  age     city\n",
            "person1   John   20  NewYork\n",
            "person2   Jane   25   London\n",
            "person3   Mike   30    Paris\n",
            "person4  Emily   35   Sydney\n",
            "<class 'pandas.core.series.Series'>\n",
            "John\n",
            "          Name  age\n",
            "person1   John   20\n",
            "person2   Jane   25\n",
            "person3   Mike   30\n",
            "person4  Emily   35\n"
          ]
        }
      ]
    },
    {
      "cell_type": "code",
      "source": [
        "dataFrame3['newColumn'] = dataFrame3['age'] + dataFrame3['age']\n",
        "\n",
        "print(dataFrame3)\n",
        "\n",
        "dataFrame3 = dataFrame3.drop('newColumn', axis = 1) #set inPlace=true to update the data structure\n",
        "\n",
        "print(dataFrame3)\n",
        "\n",
        "#drop a row\n",
        "\n",
        "dataFrame3.drop('person4', axis=0, inplace=True)\n",
        "\n",
        "print(dataFrame3)\n",
        "\n",
        "#to get the dimensions of the array\n",
        "\n",
        "print(dataFrame3.shape)"
      ],
      "metadata": {
        "colab": {
          "base_uri": "https://localhost:8080/"
        },
        "id": "m69yMfss3OT9",
        "outputId": "1ee91698-a7d0-4b89-befb-bf4f009dc944"
      },
      "execution_count": 41,
      "outputs": [
        {
          "output_type": "stream",
          "name": "stdout",
          "text": [
            "          Name  age     city  newColumn\n",
            "person1   John   20  NewYork         40\n",
            "person2   Jane   25   London         50\n",
            "person3   Mike   30    Paris         60\n",
            "person4  Emily   35   Sydney         70\n",
            "          Name  age     city\n",
            "person1   John   20  NewYork\n",
            "person2   Jane   25   London\n",
            "person3   Mike   30    Paris\n",
            "person4  Emily   35   Sydney\n",
            "         Name  age     city\n",
            "person1  John   20  NewYork\n",
            "person2  Jane   25   London\n",
            "person3  Mike   30    Paris\n",
            "(3, 3)\n"
          ]
        }
      ]
    },
    {
      "cell_type": "code",
      "source": [
        "print(dataFrame3.loc['person1']) #returns the series\n",
        "print(dataFrame3.iloc[0]) #returns the series based on the location\n",
        "print(dataFrame3.loc['person1', 'Name']) #to return a specific value based on the position\n",
        "print(dataFrame3.loc[['person1', 'person2'], ['Name', 'age']]) #to return a specific value based on the position"
      ],
      "metadata": {
        "colab": {
          "base_uri": "https://localhost:8080/"
        },
        "id": "-qrKvmYnj_Ms",
        "outputId": "6d964fa5-7ae2-4c1b-becb-56cb84c4a2ef"
      },
      "execution_count": 42,
      "outputs": [
        {
          "output_type": "stream",
          "name": "stdout",
          "text": [
            "Name       John\n",
            "age          20\n",
            "city    NewYork\n",
            "Name: person1, dtype: object\n",
            "Name       John\n",
            "age          20\n",
            "city    NewYork\n",
            "Name: person1, dtype: object\n",
            "John\n",
            "         Name  age\n",
            "person1  John   20\n",
            "person2  Jane   25\n"
          ]
        }
      ]
    },
    {
      "cell_type": "code",
      "source": [
        "#part 2\n",
        "\n",
        "from numpy.random import rand\n",
        "\n",
        "np.random.seed(101)\n",
        "\n",
        "dataFrame4 = pd.DataFrame(rand(5, 4), ['A', 'B', 'C', 'D', 'E'], ['W', 'X', 'Y', 'Z'])\n",
        "\n",
        "print(dataFrame4)\n",
        "\n",
        "print(dataFrame4 > .2)\n",
        "\n",
        "dataFrame4Bol = dataFrame4 > 0.2\n",
        "\n",
        "print(dataFrame4[dataFrame4Bol]) # if it's false then Nan is getting resulted"
      ],
      "metadata": {
        "colab": {
          "base_uri": "https://localhost:8080/"
        },
        "id": "IY9MqsitmC8m",
        "outputId": "43781510-2feb-4237-f0bb-9e24709eeac4"
      },
      "execution_count": 43,
      "outputs": [
        {
          "output_type": "stream",
          "name": "stdout",
          "text": [
            "          W         X         Y         Z\n",
            "A  0.516399  0.570668  0.028474  0.171522\n",
            "B  0.685277  0.833897  0.306966  0.893613\n",
            "C  0.721544  0.189939  0.554228  0.352132\n",
            "D  0.181892  0.785602  0.965483  0.232354\n",
            "E  0.083561  0.603548  0.728993  0.276239\n",
            "       W      X      Y      Z\n",
            "A   True   True  False  False\n",
            "B   True   True   True   True\n",
            "C   True  False   True   True\n",
            "D  False   True   True   True\n",
            "E  False   True   True   True\n",
            "          W         X         Y         Z\n",
            "A  0.516399  0.570668       NaN       NaN\n",
            "B  0.685277  0.833897  0.306966  0.893613\n",
            "C  0.721544       NaN  0.554228  0.352132\n",
            "D       NaN  0.785602  0.965483  0.232354\n",
            "E       NaN  0.603548  0.728993  0.276239\n"
          ]
        }
      ]
    },
    {
      "cell_type": "code",
      "source": [
        "#RESET the INDEX\n",
        "\n",
        "print(dataFrame4.reset_index()) #looks like it's similar rownum\n",
        "\n",
        "#check set_index"
      ],
      "metadata": {
        "colab": {
          "base_uri": "https://localhost:8080/"
        },
        "id": "PMNwEZOEs5Uw",
        "outputId": "6575c234-9d40-4fcb-a6d3-fdd703d7def4"
      },
      "execution_count": 44,
      "outputs": [
        {
          "output_type": "stream",
          "name": "stdout",
          "text": [
            "  index         W         X         Y         Z\n",
            "0     A  0.516399  0.570668  0.028474  0.171522\n",
            "1     B  0.685277  0.833897  0.306966  0.893613\n",
            "2     C  0.721544  0.189939  0.554228  0.352132\n",
            "3     D  0.181892  0.785602  0.965483  0.232354\n",
            "4     E  0.083561  0.603548  0.728993  0.276239\n"
          ]
        }
      ]
    },
    {
      "cell_type": "code",
      "source": [
        "#part 3\n",
        "\n",
        "outside = ['G1', 'G1', 'G1', 'G2', 'G2', 'G2']\n",
        "\n",
        "inside = [1, 2, 3, 1, 2, 3]\n",
        "\n",
        "hier_index = list(zip(outside, inside))\n",
        "\n",
        "print(hier_index)\n",
        "\n",
        "hier_index = pd.MultiIndex.from_tuples(hier_index)\n",
        "\n",
        "print(hier_index)\n",
        "\n",
        "#df = pd.MultiIndex(rand(6, 2), hier_index, ['A', 'B'])\n",
        "\n",
        "#explore df.xs"
      ],
      "metadata": {
        "colab": {
          "base_uri": "https://localhost:8080/",
          "height": 568
        },
        "id": "cn5lxLcVzlvq",
        "outputId": "b6aa84c1-30bb-493a-d138-46ba8aec705a"
      },
      "execution_count": 45,
      "outputs": [
        {
          "output_type": "stream",
          "name": "stdout",
          "text": [
            "[('G1', 1), ('G1', 2), ('G1', 3), ('G2', 1), ('G2', 2), ('G2', 3)]\n",
            "MultiIndex([('G1', 1),\n",
            "            ('G1', 2),\n",
            "            ('G1', 3),\n",
            "            ('G2', 1),\n",
            "            ('G2', 2),\n",
            "            ('G2', 3)],\n",
            "           )\n"
          ]
        },
        {
          "output_type": "error",
          "ename": "ValueError",
          "evalue": "ignored",
          "traceback": [
            "\u001b[0;31m---------------------------------------------------------------------------\u001b[0m",
            "\u001b[0;31mValueError\u001b[0m                                Traceback (most recent call last)",
            "\u001b[0;32m<ipython-input-45-b5680fdaa0a9>\u001b[0m in \u001b[0;36m<cell line: 15>\u001b[0;34m()\u001b[0m\n\u001b[1;32m     13\u001b[0m \u001b[0mprint\u001b[0m\u001b[0;34m(\u001b[0m\u001b[0mhier_index\u001b[0m\u001b[0;34m)\u001b[0m\u001b[0;34m\u001b[0m\u001b[0;34m\u001b[0m\u001b[0m\n\u001b[1;32m     14\u001b[0m \u001b[0;34m\u001b[0m\u001b[0m\n\u001b[0;32m---> 15\u001b[0;31m \u001b[0mdf\u001b[0m \u001b[0;34m=\u001b[0m \u001b[0mpd\u001b[0m\u001b[0;34m.\u001b[0m\u001b[0mMultiIndex\u001b[0m\u001b[0;34m(\u001b[0m\u001b[0mrand\u001b[0m\u001b[0;34m(\u001b[0m\u001b[0;36m6\u001b[0m\u001b[0;34m,\u001b[0m \u001b[0;36m2\u001b[0m\u001b[0;34m)\u001b[0m\u001b[0;34m,\u001b[0m \u001b[0mhier_index\u001b[0m\u001b[0;34m,\u001b[0m \u001b[0;34m[\u001b[0m\u001b[0;34m'A'\u001b[0m\u001b[0;34m,\u001b[0m \u001b[0;34m'B'\u001b[0m\u001b[0;34m]\u001b[0m\u001b[0;34m)\u001b[0m\u001b[0;34m\u001b[0m\u001b[0;34m\u001b[0m\u001b[0m\n\u001b[0m\u001b[1;32m     16\u001b[0m \u001b[0;34m\u001b[0m\u001b[0m\n\u001b[1;32m     17\u001b[0m \u001b[0mprint\u001b[0m\u001b[0;34m(\u001b[0m\u001b[0mdf\u001b[0m\u001b[0;34m)\u001b[0m\u001b[0;34m\u001b[0m\u001b[0;34m\u001b[0m\u001b[0m\n",
            "\u001b[0;32m/usr/local/lib/python3.10/dist-packages/pandas/core/indexes/multi.py\u001b[0m in \u001b[0;36m__new__\u001b[0;34m(cls, levels, codes, sortorder, names, dtype, copy, name, verify_integrity)\u001b[0m\n\u001b[1;32m    327\u001b[0m         \u001b[0;31m# we've already validated levels and codes, so shortcut here\u001b[0m\u001b[0;34m\u001b[0m\u001b[0;34m\u001b[0m\u001b[0m\n\u001b[1;32m    328\u001b[0m         \u001b[0mresult\u001b[0m\u001b[0;34m.\u001b[0m\u001b[0m_set_levels\u001b[0m\u001b[0;34m(\u001b[0m\u001b[0mlevels\u001b[0m\u001b[0;34m,\u001b[0m \u001b[0mcopy\u001b[0m\u001b[0;34m=\u001b[0m\u001b[0mcopy\u001b[0m\u001b[0;34m,\u001b[0m \u001b[0mvalidate\u001b[0m\u001b[0;34m=\u001b[0m\u001b[0;32mFalse\u001b[0m\u001b[0;34m)\u001b[0m\u001b[0;34m\u001b[0m\u001b[0;34m\u001b[0m\u001b[0m\n\u001b[0;32m--> 329\u001b[0;31m         \u001b[0mresult\u001b[0m\u001b[0;34m.\u001b[0m\u001b[0m_set_codes\u001b[0m\u001b[0;34m(\u001b[0m\u001b[0mcodes\u001b[0m\u001b[0;34m,\u001b[0m \u001b[0mcopy\u001b[0m\u001b[0;34m=\u001b[0m\u001b[0mcopy\u001b[0m\u001b[0;34m,\u001b[0m \u001b[0mvalidate\u001b[0m\u001b[0;34m=\u001b[0m\u001b[0;32mFalse\u001b[0m\u001b[0;34m)\u001b[0m\u001b[0;34m\u001b[0m\u001b[0;34m\u001b[0m\u001b[0m\n\u001b[0m\u001b[1;32m    330\u001b[0m \u001b[0;34m\u001b[0m\u001b[0m\n\u001b[1;32m    331\u001b[0m         \u001b[0mresult\u001b[0m\u001b[0;34m.\u001b[0m\u001b[0m_names\u001b[0m \u001b[0;34m=\u001b[0m \u001b[0;34m[\u001b[0m\u001b[0;32mNone\u001b[0m\u001b[0;34m]\u001b[0m \u001b[0;34m*\u001b[0m \u001b[0mlen\u001b[0m\u001b[0;34m(\u001b[0m\u001b[0mlevels\u001b[0m\u001b[0;34m)\u001b[0m\u001b[0;34m\u001b[0m\u001b[0;34m\u001b[0m\u001b[0m\n",
            "\u001b[0;32m/usr/local/lib/python3.10/dist-packages/pandas/core/indexes/multi.py\u001b[0m in \u001b[0;36m_set_codes\u001b[0;34m(self, codes, level, copy, validate, verify_integrity)\u001b[0m\n\u001b[1;32m   1002\u001b[0m \u001b[0;34m\u001b[0m\u001b[0m\n\u001b[1;32m   1003\u001b[0m         \u001b[0;32mif\u001b[0m \u001b[0mlevel\u001b[0m \u001b[0;32mis\u001b[0m \u001b[0;32mNone\u001b[0m\u001b[0;34m:\u001b[0m\u001b[0;34m\u001b[0m\u001b[0;34m\u001b[0m\u001b[0m\n\u001b[0;32m-> 1004\u001b[0;31m             new_codes = FrozenList(\n\u001b[0m\u001b[1;32m   1005\u001b[0m                 \u001b[0m_coerce_indexer_frozen\u001b[0m\u001b[0;34m(\u001b[0m\u001b[0mlevel_codes\u001b[0m\u001b[0;34m,\u001b[0m \u001b[0mlev\u001b[0m\u001b[0;34m,\u001b[0m \u001b[0mcopy\u001b[0m\u001b[0;34m=\u001b[0m\u001b[0mcopy\u001b[0m\u001b[0;34m)\u001b[0m\u001b[0;34m.\u001b[0m\u001b[0mview\u001b[0m\u001b[0;34m(\u001b[0m\u001b[0;34m)\u001b[0m\u001b[0;34m\u001b[0m\u001b[0;34m\u001b[0m\u001b[0m\n\u001b[1;32m   1006\u001b[0m                 \u001b[0;32mfor\u001b[0m \u001b[0mlev\u001b[0m\u001b[0;34m,\u001b[0m \u001b[0mlevel_codes\u001b[0m \u001b[0;32min\u001b[0m \u001b[0mzip\u001b[0m\u001b[0;34m(\u001b[0m\u001b[0mself\u001b[0m\u001b[0;34m.\u001b[0m\u001b[0m_levels\u001b[0m\u001b[0;34m,\u001b[0m \u001b[0mcodes\u001b[0m\u001b[0;34m)\u001b[0m\u001b[0;34m\u001b[0m\u001b[0;34m\u001b[0m\u001b[0m\n",
            "\u001b[0;32m/usr/local/lib/python3.10/dist-packages/pandas/core/indexes/multi.py\u001b[0m in \u001b[0;36m<genexpr>\u001b[0;34m(.0)\u001b[0m\n\u001b[1;32m   1003\u001b[0m         \u001b[0;32mif\u001b[0m \u001b[0mlevel\u001b[0m \u001b[0;32mis\u001b[0m \u001b[0;32mNone\u001b[0m\u001b[0;34m:\u001b[0m\u001b[0;34m\u001b[0m\u001b[0;34m\u001b[0m\u001b[0m\n\u001b[1;32m   1004\u001b[0m             new_codes = FrozenList(\n\u001b[0;32m-> 1005\u001b[0;31m                 \u001b[0m_coerce_indexer_frozen\u001b[0m\u001b[0;34m(\u001b[0m\u001b[0mlevel_codes\u001b[0m\u001b[0;34m,\u001b[0m \u001b[0mlev\u001b[0m\u001b[0;34m,\u001b[0m \u001b[0mcopy\u001b[0m\u001b[0;34m=\u001b[0m\u001b[0mcopy\u001b[0m\u001b[0;34m)\u001b[0m\u001b[0;34m.\u001b[0m\u001b[0mview\u001b[0m\u001b[0;34m(\u001b[0m\u001b[0;34m)\u001b[0m\u001b[0;34m\u001b[0m\u001b[0;34m\u001b[0m\u001b[0m\n\u001b[0m\u001b[1;32m   1006\u001b[0m                 \u001b[0;32mfor\u001b[0m \u001b[0mlev\u001b[0m\u001b[0;34m,\u001b[0m \u001b[0mlevel_codes\u001b[0m \u001b[0;32min\u001b[0m \u001b[0mzip\u001b[0m\u001b[0;34m(\u001b[0m\u001b[0mself\u001b[0m\u001b[0;34m.\u001b[0m\u001b[0m_levels\u001b[0m\u001b[0;34m,\u001b[0m \u001b[0mcodes\u001b[0m\u001b[0;34m)\u001b[0m\u001b[0;34m\u001b[0m\u001b[0;34m\u001b[0m\u001b[0m\n\u001b[1;32m   1007\u001b[0m             )\n",
            "\u001b[0;32m/usr/local/lib/python3.10/dist-packages/pandas/core/indexes/multi.py\u001b[0m in \u001b[0;36m_coerce_indexer_frozen\u001b[0;34m(array_like, categories, copy)\u001b[0m\n\u001b[1;32m   3948\u001b[0m         \u001b[0mNon\u001b[0m\u001b[0;34m-\u001b[0m\u001b[0mwriteable\u001b[0m\u001b[0;34m.\u001b[0m\u001b[0;34m\u001b[0m\u001b[0;34m\u001b[0m\u001b[0m\n\u001b[1;32m   3949\u001b[0m     \"\"\"\n\u001b[0;32m-> 3950\u001b[0;31m     \u001b[0marray_like\u001b[0m \u001b[0;34m=\u001b[0m \u001b[0mcoerce_indexer_dtype\u001b[0m\u001b[0;34m(\u001b[0m\u001b[0marray_like\u001b[0m\u001b[0;34m,\u001b[0m \u001b[0mcategories\u001b[0m\u001b[0;34m)\u001b[0m\u001b[0;34m\u001b[0m\u001b[0;34m\u001b[0m\u001b[0m\n\u001b[0m\u001b[1;32m   3951\u001b[0m     \u001b[0;32mif\u001b[0m \u001b[0mcopy\u001b[0m\u001b[0;34m:\u001b[0m\u001b[0;34m\u001b[0m\u001b[0;34m\u001b[0m\u001b[0m\n\u001b[1;32m   3952\u001b[0m         \u001b[0marray_like\u001b[0m \u001b[0;34m=\u001b[0m \u001b[0marray_like\u001b[0m\u001b[0;34m.\u001b[0m\u001b[0mcopy\u001b[0m\u001b[0;34m(\u001b[0m\u001b[0;34m)\u001b[0m\u001b[0;34m\u001b[0m\u001b[0;34m\u001b[0m\u001b[0m\n",
            "\u001b[0;32m/usr/local/lib/python3.10/dist-packages/pandas/core/dtypes/cast.py\u001b[0m in \u001b[0;36mcoerce_indexer_dtype\u001b[0;34m(indexer, categories)\u001b[0m\n\u001b[1;32m   1006\u001b[0m     \u001b[0mlength\u001b[0m \u001b[0;34m=\u001b[0m \u001b[0mlen\u001b[0m\u001b[0;34m(\u001b[0m\u001b[0mcategories\u001b[0m\u001b[0;34m)\u001b[0m\u001b[0;34m\u001b[0m\u001b[0;34m\u001b[0m\u001b[0m\n\u001b[1;32m   1007\u001b[0m     \u001b[0;32mif\u001b[0m \u001b[0mlength\u001b[0m \u001b[0;34m<\u001b[0m \u001b[0m_int8_max\u001b[0m\u001b[0;34m:\u001b[0m\u001b[0;34m\u001b[0m\u001b[0;34m\u001b[0m\u001b[0m\n\u001b[0;32m-> 1008\u001b[0;31m         \u001b[0;32mreturn\u001b[0m \u001b[0mensure_int8\u001b[0m\u001b[0;34m(\u001b[0m\u001b[0mindexer\u001b[0m\u001b[0;34m)\u001b[0m\u001b[0;34m\u001b[0m\u001b[0;34m\u001b[0m\u001b[0m\n\u001b[0m\u001b[1;32m   1009\u001b[0m     \u001b[0;32melif\u001b[0m \u001b[0mlength\u001b[0m \u001b[0;34m<\u001b[0m \u001b[0m_int16_max\u001b[0m\u001b[0;34m:\u001b[0m\u001b[0;34m\u001b[0m\u001b[0;34m\u001b[0m\u001b[0m\n\u001b[1;32m   1010\u001b[0m         \u001b[0;32mreturn\u001b[0m \u001b[0mensure_int16\u001b[0m\u001b[0;34m(\u001b[0m\u001b[0mindexer\u001b[0m\u001b[0;34m)\u001b[0m\u001b[0;34m\u001b[0m\u001b[0;34m\u001b[0m\u001b[0m\n",
            "\u001b[0;32mpandas/_libs/algos_common_helper.pxi\u001b[0m in \u001b[0;36mpandas._libs.algos.ensure_int8\u001b[0;34m()\u001b[0m\n",
            "\u001b[0;31mValueError\u001b[0m: invalid literal for int() with base 10: 'G1'"
          ]
        }
      ]
    }
  ]
}