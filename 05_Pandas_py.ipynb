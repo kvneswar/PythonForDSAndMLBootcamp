{
  "nbformat": 4,
  "nbformat_minor": 0,
  "metadata": {
    "colab": {
      "provenance": [],
      "authorship_tag": "ABX9TyOpOm/Me80/88m0wNF/zfaf",
      "include_colab_link": true
    },
    "kernelspec": {
      "name": "python3",
      "display_name": "Python 3"
    },
    "language_info": {
      "name": "python"
    }
  },
  "cells": [
    {
      "cell_type": "markdown",
      "metadata": {
        "id": "view-in-github",
        "colab_type": "text"
      },
      "source": [
        "<a href=\"https://colab.research.google.com/github/kvneswar/PythonForDSAndMLBootcamp/blob/main/05_Pandas_py.ipynb\" target=\"_parent\"><img src=\"https://colab.research.google.com/assets/colab-badge.svg\" alt=\"Open In Colab\"/></a>"
      ]
    },
    {
      "cell_type": "code",
      "execution_count": 2,
      "metadata": {
        "id": "gEVVKuVclAmx"
      },
      "outputs": [],
      "source": [
        "import numpy as np\n",
        "import pandas as pd"
      ]
    },
    {
      "cell_type": "code",
      "source": [
        "lables = ['a', 'b', 'c']\n",
        "\n",
        "my_data = [10, 20, 30]\n",
        "\n",
        "arr = np.array(my_data)\n",
        "\n",
        "d = {'a': 10, 'b': 20, 'c':30}"
      ],
      "metadata": {
        "id": "ySz7VDi2bkBK"
      },
      "execution_count": 4,
      "outputs": []
    },
    {
      "cell_type": "markdown",
      "source": [
        "Series"
      ],
      "metadata": {
        "id": "2_YQJQBmcNvF"
      }
    },
    {
      "cell_type": "code",
      "source": [
        "print(pd.Series(data = my_data))\n",
        "\n",
        "print(pd.Series(data = my_data, index=lables))\n",
        "\n",
        "print(pd.Series(data = arr, index=lables))\n",
        "\n",
        "print(pd.Series(d))"
      ],
      "metadata": {
        "colab": {
          "base_uri": "https://localhost:8080/"
        },
        "id": "39Y34rAPcPxq",
        "outputId": "4574ae2b-49b6-45d4-ce33-31b370e87d0c"
      },
      "execution_count": 10,
      "outputs": [
        {
          "output_type": "stream",
          "name": "stdout",
          "text": [
            "0    10\n",
            "1    20\n",
            "2    30\n",
            "dtype: int64\n",
            "a    10\n",
            "b    20\n",
            "c    30\n",
            "dtype: int64\n",
            "a    10\n",
            "b    20\n",
            "c    30\n",
            "dtype: int64\n",
            "a    10\n",
            "b    20\n",
            "c    30\n",
            "dtype: int64\n"
          ]
        }
      ]
    },
    {
      "cell_type": "code",
      "source": [
        "ser1 = pd.Series([1, 2, 3], ['India', 'USA', 'China'])\n",
        "ser2 = pd.Series([1, 2, 4], ['India', 'USA', 'Italy'])\n",
        "\n",
        "print(ser1)\n",
        "\n",
        "print(ser1['India'])\n",
        "\n",
        "#Performs the mathematical operations based on the index, if the common index not found then null/Nan will be returned\n",
        "print(ser1 + ser2)\n",
        "print(ser1 - ser2)"
      ],
      "metadata": {
        "colab": {
          "base_uri": "https://localhost:8080/"
        },
        "id": "AFQlKxLqjnQd",
        "outputId": "dfb57614-762c-493a-d379-d324d5acef23"
      },
      "execution_count": 14,
      "outputs": [
        {
          "output_type": "stream",
          "name": "stdout",
          "text": [
            "India    1\n",
            "USA      2\n",
            "China    3\n",
            "dtype: int64\n",
            "1\n",
            "China    NaN\n",
            "India    2.0\n",
            "Italy    NaN\n",
            "USA      4.0\n",
            "dtype: float64\n",
            "China    NaN\n",
            "India    0.0\n",
            "Italy    NaN\n",
            "USA      0.0\n",
            "dtype: float64\n"
          ]
        }
      ]
    },
    {
      "cell_type": "markdown",
      "source": [
        "Data Frames"
      ],
      "metadata": {
        "id": "jEXS6oZlusf6"
      }
    },
    {
      "cell_type": "code",
      "source": [
        "dataFrame1 = pd.DataFrame([['John', 20], ['Jane', 25], ['Mike', 30], ['Emily', 35]])\n",
        "\n",
        "print(dataFrame1)\n",
        "\n",
        "dataFrame1_1 = pd.DataFrame(data = [['John', 20], ['Jane', 25], ['Mike', 30], ['Emily', 35]], \n",
        "                            index = ['Person1', 'Person2', 'Person3', 'Person4'], \n",
        "                            columns = ['Name', 'Age'])\n",
        "\n",
        "print(dataFrame1_1)\n",
        "\n",
        "dataFrame2 = pd.DataFrame({'Name': ['John', 'Jane', 'Mike', 'Emily'], \n",
        "                           'age': [20, 25, 30, 35],\n",
        "                           'city': ['NewYork', 'London', 'Paris', 'Sydney']})\n",
        "print(dataFrame2)\n",
        "\n",
        "dataFrame3 = pd.DataFrame({'Name': ['John', 'Jane', 'Mike', 'Emily'], \n",
        "                           'age': [20, 25, 30, 35],\n",
        "                           'city': ['NewYork', 'London', 'Paris', 'Sydney']},\n",
        "                          ['person1', 'person2', 'person3', 'person4'])\n",
        "print(dataFrame3)\n",
        "\n",
        "#Each column in a data frame is SERIES\n",
        "\n",
        "print(type(dataFrame3['Name']))\n",
        "print(dataFrame3['Name']['person1'])\n",
        "\n",
        "print(dataFrame3[['Name', 'age']])"
      ],
      "metadata": {
        "colab": {
          "base_uri": "https://localhost:8080/"
        },
        "id": "irDeMDq6uutN",
        "outputId": "f25a49e0-47bd-4e60-f9a7-d379e1c63a8b"
      },
      "execution_count": 53,
      "outputs": [
        {
          "output_type": "stream",
          "name": "stdout",
          "text": [
            "       0   1\n",
            "0   John  20\n",
            "1   Jane  25\n",
            "2   Mike  30\n",
            "3  Emily  35\n",
            "          Name  Age\n",
            "Person1   John   20\n",
            "Person2   Jane   25\n",
            "Person3   Mike   30\n",
            "Person4  Emily   35\n",
            "    Name  age     city\n",
            "0   John   20  NewYork\n",
            "1   Jane   25   London\n",
            "2   Mike   30    Paris\n",
            "3  Emily   35   Sydney\n",
            "          Name  age     city\n",
            "person1   John   20  NewYork\n",
            "person2   Jane   25   London\n",
            "person3   Mike   30    Paris\n",
            "person4  Emily   35   Sydney\n",
            "<class 'pandas.core.series.Series'>\n",
            "John\n",
            "          Name  age\n",
            "person1   John   20\n",
            "person2   Jane   25\n",
            "person3   Mike   30\n",
            "person4  Emily   35\n"
          ]
        }
      ]
    },
    {
      "cell_type": "code",
      "source": [
        "dataFrame3['newColumn'] = dataFrame3['age'] + dataFrame3['age']\n",
        "\n",
        "print(dataFrame3)\n",
        "\n",
        "dataFrame3 = dataFrame3.drop('newColumn', axis = 1) #set inPlace=true to update the data structure\n",
        "\n",
        "print(dataFrame3)\n",
        "\n",
        "#drop a row\n",
        "\n",
        "dataFrame3.drop('person4', axis=0, inplace=True)\n",
        "\n",
        "print(dataFrame3)\n",
        "\n",
        "#to get the dimensions of the array\n",
        "\n",
        "print(dataFrame3.shape)"
      ],
      "metadata": {
        "colab": {
          "base_uri": "https://localhost:8080/"
        },
        "id": "m69yMfss3OT9",
        "outputId": "b2cd65a2-8fcf-459b-9795-aca906815fab"
      },
      "execution_count": 54,
      "outputs": [
        {
          "output_type": "stream",
          "name": "stdout",
          "text": [
            "          Name  age     city  newColumn\n",
            "person1   John   20  NewYork         40\n",
            "person2   Jane   25   London         50\n",
            "person3   Mike   30    Paris         60\n",
            "person4  Emily   35   Sydney         70\n",
            "          Name  age     city\n",
            "person1   John   20  NewYork\n",
            "person2   Jane   25   London\n",
            "person3   Mike   30    Paris\n",
            "person4  Emily   35   Sydney\n",
            "         Name  age     city\n",
            "person1  John   20  NewYork\n",
            "person2  Jane   25   London\n",
            "person3  Mike   30    Paris\n",
            "(3, 3)\n"
          ]
        }
      ]
    }
  ]
}