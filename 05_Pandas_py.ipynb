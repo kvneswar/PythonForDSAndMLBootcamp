{
  "nbformat": 4,
  "nbformat_minor": 0,
  "metadata": {
    "colab": {
      "provenance": [],
      "authorship_tag": "ABX9TyNzRx2ORzOGjW1Qb8tF4cA2",
      "include_colab_link": true
    },
    "kernelspec": {
      "name": "python3",
      "display_name": "Python 3"
    },
    "language_info": {
      "name": "python"
    }
  },
  "cells": [
    {
      "cell_type": "markdown",
      "metadata": {
        "id": "view-in-github",
        "colab_type": "text"
      },
      "source": [
        "<a href=\"https://colab.research.google.com/github/kvneswar/PythonForDSAndMLBootcamp/blob/main/05_Pandas_py.ipynb\" target=\"_parent\"><img src=\"https://colab.research.google.com/assets/colab-badge.svg\" alt=\"Open In Colab\"/></a>"
      ]
    },
    {
      "cell_type": "code",
      "execution_count": 2,
      "metadata": {
        "id": "gEVVKuVclAmx"
      },
      "outputs": [],
      "source": [
        "import numpy as np\n",
        "import pandas as pd"
      ]
    },
    {
      "cell_type": "code",
      "source": [
        "lables = ['a', 'b', 'c']\n",
        "\n",
        "my_data = [10, 20, 30]\n",
        "\n",
        "arr = np.array(my_data)\n",
        "\n",
        "d = {'a': 10, 'b': 20, 'c':30}"
      ],
      "metadata": {
        "id": "ySz7VDi2bkBK"
      },
      "execution_count": 3,
      "outputs": []
    },
    {
      "cell_type": "markdown",
      "source": [
        "Series"
      ],
      "metadata": {
        "id": "2_YQJQBmcNvF"
      }
    },
    {
      "cell_type": "code",
      "source": [
        "print(pd.Series(data = my_data))\n",
        "\n",
        "print(pd.Series(data = my_data, index=lables))\n",
        "\n",
        "print(pd.Series(data = arr, index=lables))\n",
        "\n",
        "print(pd.Series(d))"
      ],
      "metadata": {
        "colab": {
          "base_uri": "https://localhost:8080/"
        },
        "id": "39Y34rAPcPxq",
        "outputId": "533aa005-ed7a-4b49-a1d9-d7414b675c97"
      },
      "execution_count": 4,
      "outputs": [
        {
          "output_type": "stream",
          "name": "stdout",
          "text": [
            "0    10\n",
            "1    20\n",
            "2    30\n",
            "dtype: int64\n",
            "a    10\n",
            "b    20\n",
            "c    30\n",
            "dtype: int64\n",
            "a    10\n",
            "b    20\n",
            "c    30\n",
            "dtype: int64\n",
            "a    10\n",
            "b    20\n",
            "c    30\n",
            "dtype: int64\n"
          ]
        }
      ]
    },
    {
      "cell_type": "code",
      "source": [
        "ser1 = pd.Series([1, 2, 3], ['India', 'USA', 'China'])\n",
        "ser2 = pd.Series([1, 2, 4], ['India', 'USA', 'Italy'])\n",
        "\n",
        "print(ser1)\n",
        "\n",
        "print(ser1['India'])\n",
        "\n",
        "#Performs the mathematical operations based on the index, if the common index not found then null/Nan will be returned\n",
        "print(ser1 + ser2)\n",
        "print(ser1 - ser2)"
      ],
      "metadata": {
        "colab": {
          "base_uri": "https://localhost:8080/"
        },
        "id": "AFQlKxLqjnQd",
        "outputId": "7464f9e2-da43-49f1-d128-10d49707b0f4"
      },
      "execution_count": 5,
      "outputs": [
        {
          "output_type": "stream",
          "name": "stdout",
          "text": [
            "India    1\n",
            "USA      2\n",
            "China    3\n",
            "dtype: int64\n",
            "1\n",
            "China    NaN\n",
            "India    2.0\n",
            "Italy    NaN\n",
            "USA      4.0\n",
            "dtype: float64\n",
            "China    NaN\n",
            "India    0.0\n",
            "Italy    NaN\n",
            "USA      0.0\n",
            "dtype: float64\n"
          ]
        }
      ]
    },
    {
      "cell_type": "markdown",
      "source": [
        "Data Frames"
      ],
      "metadata": {
        "id": "jEXS6oZlusf6"
      }
    },
    {
      "cell_type": "code",
      "source": [
        "dataFrame1 = pd.DataFrame([['John', 20], ['Jane', 25], ['Mike', 30], ['Emily', 35]])\n",
        "\n",
        "print(dataFrame1)\n",
        "\n",
        "dataFrame1_1 = pd.DataFrame(data = [['John', 20], ['Jane', 25], ['Mike', 30], ['Emily', 35]], \n",
        "                            index = ['Person1', 'Person2', 'Person3', 'Person4'], \n",
        "                            columns = ['Name', 'Age'])\n",
        "\n",
        "print(dataFrame1_1)\n",
        "\n",
        "dataFrame2 = pd.DataFrame({'Name': ['John', 'Jane', 'Mike', 'Emily'], \n",
        "                           'age': [20, 25, 30, 35],\n",
        "                           'city': ['NewYork', 'London', 'Paris', 'Sydney']})\n",
        "print(dataFrame2)\n",
        "\n",
        "dataFrame3 = pd.DataFrame({'Name': ['John', 'Jane', 'Mike', 'Emily'], \n",
        "                           'age': [20, 25, 30, 35],\n",
        "                           'city': ['NewYork', 'London', 'Paris', 'Sydney']},\n",
        "                          ['person1', 'person2', 'person3', 'person4'])\n",
        "print(dataFrame3)\n",
        "\n",
        "#Each column in a data frame is SERIES\n",
        "\n",
        "print(type(dataFrame3['Name']))\n",
        "print(dataFrame3['Name']['person1'])\n",
        "\n",
        "print(dataFrame3[['Name', 'age']])"
      ],
      "metadata": {
        "colab": {
          "base_uri": "https://localhost:8080/"
        },
        "id": "irDeMDq6uutN",
        "outputId": "d95158fe-e959-4131-d93b-7a0e1c65d3d5"
      },
      "execution_count": 6,
      "outputs": [
        {
          "output_type": "stream",
          "name": "stdout",
          "text": [
            "       0   1\n",
            "0   John  20\n",
            "1   Jane  25\n",
            "2   Mike  30\n",
            "3  Emily  35\n",
            "          Name  Age\n",
            "Person1   John   20\n",
            "Person2   Jane   25\n",
            "Person3   Mike   30\n",
            "Person4  Emily   35\n",
            "    Name  age     city\n",
            "0   John   20  NewYork\n",
            "1   Jane   25   London\n",
            "2   Mike   30    Paris\n",
            "3  Emily   35   Sydney\n",
            "          Name  age     city\n",
            "person1   John   20  NewYork\n",
            "person2   Jane   25   London\n",
            "person3   Mike   30    Paris\n",
            "person4  Emily   35   Sydney\n",
            "<class 'pandas.core.series.Series'>\n",
            "John\n",
            "          Name  age\n",
            "person1   John   20\n",
            "person2   Jane   25\n",
            "person3   Mike   30\n",
            "person4  Emily   35\n"
          ]
        }
      ]
    },
    {
      "cell_type": "code",
      "source": [
        "dataFrame3['newColumn'] = dataFrame3['age'] + dataFrame3['age']\n",
        "\n",
        "print(dataFrame3)\n",
        "\n",
        "dataFrame3 = dataFrame3.drop('newColumn', axis = 1) #set inPlace=true to update the data structure\n",
        "\n",
        "print(dataFrame3)\n",
        "\n",
        "#drop a row\n",
        "\n",
        "dataFrame3.drop('person4', axis=0, inplace=True)\n",
        "\n",
        "print(dataFrame3)\n",
        "\n",
        "#to get the dimensions of the array\n",
        "\n",
        "print(dataFrame3.shape)"
      ],
      "metadata": {
        "colab": {
          "base_uri": "https://localhost:8080/"
        },
        "id": "m69yMfss3OT9",
        "outputId": "6c8830df-d654-4dcf-e737-5097069e60a9"
      },
      "execution_count": 7,
      "outputs": [
        {
          "output_type": "stream",
          "name": "stdout",
          "text": [
            "          Name  age     city  newColumn\n",
            "person1   John   20  NewYork         40\n",
            "person2   Jane   25   London         50\n",
            "person3   Mike   30    Paris         60\n",
            "person4  Emily   35   Sydney         70\n",
            "          Name  age     city\n",
            "person1   John   20  NewYork\n",
            "person2   Jane   25   London\n",
            "person3   Mike   30    Paris\n",
            "person4  Emily   35   Sydney\n",
            "         Name  age     city\n",
            "person1  John   20  NewYork\n",
            "person2  Jane   25   London\n",
            "person3  Mike   30    Paris\n",
            "(3, 3)\n"
          ]
        }
      ]
    },
    {
      "cell_type": "code",
      "source": [
        "print(dataFrame3.loc['person1']) #returns the series\n",
        "print(dataFrame3.iloc[0]) #returns the series based on the location\n",
        "print(dataFrame3.loc['person1', 'Name']) #to return a specific value based on the position\n",
        "print(dataFrame3.loc[['person1', 'person2'], ['Name', 'age']]) #to return a specific value based on the position"
      ],
      "metadata": {
        "colab": {
          "base_uri": "https://localhost:8080/"
        },
        "id": "-qrKvmYnj_Ms",
        "outputId": "247ff8c7-0f5e-4c24-d03b-66b50465d77a"
      },
      "execution_count": 15,
      "outputs": [
        {
          "output_type": "stream",
          "name": "stdout",
          "text": [
            "Name       John\n",
            "age          20\n",
            "city    NewYork\n",
            "Name: person1, dtype: object\n",
            "Name       John\n",
            "age          20\n",
            "city    NewYork\n",
            "Name: person1, dtype: object\n",
            "John\n",
            "         Name  age\n",
            "person1  John   20\n",
            "person2  Jane   25\n"
          ]
        }
      ]
    },
    {
      "cell_type": "code",
      "source": [
        "#part 2\n",
        "\n",
        "from numpy.random import rand\n",
        "\n",
        "np.random.seed(101)\n",
        "\n",
        "dataFrame4 = pd.DataFrame(rand(5, 4), ['A', 'B', 'C', 'D', 'E'], ['W', 'X', 'Y', 'Z'])\n",
        "\n",
        "print(dataFrame4)\n",
        "\n",
        "print(dataFrame4 > .2)\n",
        "\n",
        "dataFrame4Bol = dataFrame4 > 0.2\n",
        "\n",
        "print(dataFrame4[dataFrame4Bol]) # if it's false then Nan is getting resulted"
      ],
      "metadata": {
        "colab": {
          "base_uri": "https://localhost:8080/"
        },
        "id": "IY9MqsitmC8m",
        "outputId": "cc01f6fc-d35a-465a-b933-b584118aa2be"
      },
      "execution_count": 24,
      "outputs": [
        {
          "output_type": "stream",
          "name": "stdout",
          "text": [
            "          W         X         Y         Z\n",
            "A  0.516399  0.570668  0.028474  0.171522\n",
            "B  0.685277  0.833897  0.306966  0.893613\n",
            "C  0.721544  0.189939  0.554228  0.352132\n",
            "D  0.181892  0.785602  0.965483  0.232354\n",
            "E  0.083561  0.603548  0.728993  0.276239\n",
            "       W      X      Y      Z\n",
            "A   True   True  False  False\n",
            "B   True   True   True   True\n",
            "C   True  False   True   True\n",
            "D  False   True   True   True\n",
            "E  False   True   True   True\n",
            "          W         X         Y         Z\n",
            "A  0.516399  0.570668       NaN       NaN\n",
            "B  0.685277  0.833897  0.306966  0.893613\n",
            "C  0.721544       NaN  0.554228  0.352132\n",
            "D       NaN  0.785602  0.965483  0.232354\n",
            "E       NaN  0.603548  0.728993  0.276239\n"
          ]
        }
      ]
    },
    {
      "cell_type": "code",
      "source": [
        "#RESET the INDEX\n",
        "\n",
        "print(dataFrame4.reset_index()) #looks like it's similar rownum\n",
        "\n",
        "#check set_index"
      ],
      "metadata": {
        "colab": {
          "base_uri": "https://localhost:8080/"
        },
        "id": "PMNwEZOEs5Uw",
        "outputId": "790bd139-a7e8-4102-f727-33f9b9fc440a"
      },
      "execution_count": 26,
      "outputs": [
        {
          "output_type": "stream",
          "name": "stdout",
          "text": [
            "  index         W         X         Y         Z\n",
            "0     A  0.516399  0.570668  0.028474  0.171522\n",
            "1     B  0.685277  0.833897  0.306966  0.893613\n",
            "2     C  0.721544  0.189939  0.554228  0.352132\n",
            "3     D  0.181892  0.785602  0.965483  0.232354\n",
            "4     E  0.083561  0.603548  0.728993  0.276239\n"
          ]
        }
      ]
    }
  ]
}