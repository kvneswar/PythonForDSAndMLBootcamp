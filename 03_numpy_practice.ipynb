{
  "nbformat": 4,
  "nbformat_minor": 0,
  "metadata": {
    "colab": {
      "provenance": [],
      "authorship_tag": "ABX9TyP4OI9u8as696+YwpbHCAFK",
      "include_colab_link": true
    },
    "kernelspec": {
      "name": "python3",
      "display_name": "Python 3"
    },
    "language_info": {
      "name": "python"
    }
  },
  "cells": [
    {
      "cell_type": "markdown",
      "metadata": {
        "id": "view-in-github",
        "colab_type": "text"
      },
      "source": [
        "<a href=\"https://colab.research.google.com/github/kvneswar/PythonForDSAndMLBootcamp/blob/main/03_numpy_practice.ipynb\" target=\"_parent\"><img src=\"https://colab.research.google.com/assets/colab-badge.svg\" alt=\"Open In Colab\"/></a>"
      ]
    },
    {
      "cell_type": "markdown",
      "source": [
        "*   NumPy is a Linear Algebra Library in Python\n",
        "*   Almost all the libraries in PyData are rely on NumPy as one or their building blocks.\n",
        "*It is incredibly fast, as it has binding to C libraries\n",
        "# * To install NumPy -> **conda install numpy** or **pip install numpy**\n",
        "\n",
        "\n",
        "*   NumPy arrays comes in 2 falvors i.e. vectors and matrices\n",
        "*   vectors are 1 dimentional and matrices are 2D (or it can have one row or one column)\n",
        "\n",
        "\n",
        "\n",
        "    \n",
        "\n"
      ],
      "metadata": {
        "id": "sRGMr8WFJfED"
      }
    },
    {
      "cell_type": "code",
      "source": [
        "import numpy as np"
      ],
      "metadata": {
        "id": "0z4OTEoYQmUQ"
      },
      "execution_count": null,
      "outputs": []
    },
    {
      "cell_type": "code",
      "source": [
        "arr = np.array([1, 2, 3])\n",
        "\n",
        "arr #for the type"
      ],
      "metadata": {
        "colab": {
          "base_uri": "https://localhost:8080/"
        },
        "id": "AzW6pzh3QukC",
        "outputId": "48081bf4-13d8-4163-e415-a44b9ad6da66"
      },
      "execution_count": null,
      "outputs": [
        {
          "output_type": "execute_result",
          "data": {
            "text/plain": [
              "array([1, 2, 3])"
            ]
          },
          "metadata": {},
          "execution_count": 8
        }
      ]
    },
    {
      "cell_type": "code",
      "source": [
        "print(arr)\n",
        "\n",
        "my_mat = np.array([[1, 2], [3, 4]])\n",
        "\n",
        "my_mat"
      ],
      "metadata": {
        "colab": {
          "base_uri": "https://localhost:8080/"
        },
        "id": "GKuALIfuRjgb",
        "outputId": "fe537036-4213-4831-8100-ff02994a67bd"
      },
      "execution_count": null,
      "outputs": [
        {
          "output_type": "stream",
          "name": "stdout",
          "text": [
            "[1 2 3]\n"
          ]
        },
        {
          "output_type": "execute_result",
          "data": {
            "text/plain": [
              "array([[1, 2],\n",
              "       [3, 4]])"
            ]
          },
          "metadata": {},
          "execution_count": 11
        }
      ]
    },
    {
      "cell_type": "code",
      "source": [
        "print(np.arange(0, 10)) #similar to range function in list\n",
        "print(np.arange(0, 10, 4)) #to skip\n",
        "\n",
        "print(np.zeros((2, 3)))\n",
        "\n",
        "print(np.eye(4))"
      ],
      "metadata": {
        "colab": {
          "base_uri": "https://localhost:8080/"
        },
        "id": "T92XRLpQSGI6",
        "outputId": "eaea814d-7cdd-4311-aac3-4fa6853415aa"
      },
      "execution_count": null,
      "outputs": [
        {
          "output_type": "stream",
          "name": "stdout",
          "text": [
            "[0 1 2 3 4 5 6 7 8 9]\n",
            "[0 4 8]\n",
            "[[0. 0. 0.]\n",
            " [0. 0. 0.]]\n",
            "[[1. 0. 0. 0.]\n",
            " [0. 1. 0. 0.]\n",
            " [0. 0. 1. 0.]\n",
            " [0. 0. 0. 1.]]\n"
          ]
        }
      ]
    },
    {
      "cell_type": "code",
      "source": [
        "print(np.random.rand())\n",
        "print(np.random.rand(5))\n",
        "print(np.random.rand(5, 5))\n",
        "print(np.random.randn(5))\n",
        "print(np.random.randn(5, 5))\n",
        "\n",
        "print(np.random.randint(10))\n",
        "print(np.random.randint(0, 20, 5)) # 5 random integers b/w 0-20"
      ],
      "metadata": {
        "colab": {
          "base_uri": "https://localhost:8080/"
        },
        "id": "Sp4OwrZ6DsYG",
        "outputId": "be04ff7b-7954-44c0-a678-e5846d5c5551"
      },
      "execution_count": null,
      "outputs": [
        {
          "output_type": "stream",
          "name": "stdout",
          "text": [
            "0.7792110036011262\n",
            "[0.70275356 0.79213705 0.91800178 0.26049419 0.64345346]\n",
            "[[0.45103425 0.05144747 0.41962183 0.02921816 0.4421643 ]\n",
            " [0.75756085 0.80100231 0.21450052 0.62352538 0.56604142]\n",
            " [0.11035255 0.07177668 0.91685418 0.97158829 0.9450414 ]\n",
            " [0.03721262 0.70463355 0.503701   0.95746268 0.9931466 ]\n",
            " [0.37219409 0.27626489 0.62775797 0.27127616 0.49469966]]\n",
            "[-1.0701014   1.39625297 -0.0310707   0.28366732  0.81587908]\n",
            "[[ 0.67384022  0.60616554  1.38277825  0.09706521  0.84345084]\n",
            " [ 1.13929734  0.50465094  0.34070484 -0.25558744  0.5847857 ]\n",
            " [ 0.62292648 -0.67835936 -0.42960241  1.14618313 -1.14501254]\n",
            " [-0.26981658  0.31273704  0.64009876 -0.16081863  0.11428551]\n",
            " [-1.01473     0.09042117 -1.21461408 -1.64860055 -1.16465256]]\n",
            "0\n",
            "[ 5 15 18  9  5]\n"
          ]
        }
      ]
    },
    {
      "cell_type": "code",
      "source": [
        "new_array = np.random.randint(0, 100, 5)\n",
        "\n",
        "print(new_array)\n",
        "print(new_array.max())\n",
        "print(new_array.argmax()) #max element location\n",
        "print(new_array.min())\n",
        "print(new_array.argmin()) #min element location\n",
        "\n",
        "print(new_array.shape) #returns the array dimension\n",
        "print(new_array.dtype) #data type of the array\n"
      ],
      "metadata": {
        "id": "mOIr6x_v8LCz",
        "outputId": "e0442291-cdf3-4bca-a561-f1cabbe049a1",
        "colab": {
          "base_uri": "https://localhost:8080/"
        }
      },
      "execution_count": null,
      "outputs": [
        {
          "output_type": "stream",
          "name": "stdout",
          "text": [
            "[33 11 46 60 42]\n",
            "60\n",
            "3\n",
            "11\n",
            "1\n",
            "(5,)\n",
            "int64\n"
          ]
        }
      ]
    },
    {
      "cell_type": "code",
      "source": [
        "from numpy.random import randint #like the static import\n",
        "\n",
        "print(randint(0, 100, 10))"
      ],
      "metadata": {
        "id": "Mz2tJpyA-lBB",
        "outputId": "3c6fb6d1-0b6b-416f-8875-3f29476c9bb6",
        "colab": {
          "base_uri": "https://localhost:8080/"
        }
      },
      "execution_count": null,
      "outputs": [
        {
          "output_type": "stream",
          "name": "stdout",
          "text": [
            "[57  6 44 44 34 17 63 47  5 79]\n"
          ]
        }
      ]
    },
    {
      "cell_type": "markdown",
      "source": [
        "# NUMPY INDEXING"
      ],
      "metadata": {
        "id": "c9Q7yoGQ_08l"
      }
    },
    {
      "cell_type": "code",
      "source": [
        "arr = np.arange(0, 10)\n",
        "\n",
        "print(arr)\n",
        "\n",
        "print(arr[0:4])\n",
        "print(arr[:-4])\n",
        "print(arr[5:])"
      ],
      "metadata": {
        "id": "-MFy_sWZEnxn",
        "outputId": "30977822-fece-4f1a-935d-1804f6d8f547",
        "colab": {
          "base_uri": "https://localhost:8080/"
        }
      },
      "execution_count": 32,
      "outputs": [
        {
          "output_type": "stream",
          "name": "stdout",
          "text": [
            "[0 1 2 3 4 5 6 7 8 9]\n",
            "[0 1 2 3]\n",
            "[0 1 2 3 4 5]\n",
            "[5 6 7 8 9]\n"
          ]
        }
      ]
    },
    {
      "cell_type": "markdown",
      "source": [
        "# PASS BY REFERENCE"
      ],
      "metadata": {
        "id": "9Kqb8LGNFzX9"
      }
    },
    {
      "cell_type": "code",
      "source": [
        "arr = np.arange(0, 10)\n",
        "\n",
        "print(arr)\n",
        "\n",
        "arr_partial = arr[5:]\n",
        "\n",
        "arr_partial[:] = 100 #original reference also getting updated\n",
        "\n",
        "print(arr_partial)\n",
        "print(arr)\n",
        "\n",
        "arr = np.arange(0, 10)\n",
        "\n",
        "arr_copy = arr.copy()\n",
        "\n",
        "arr_partial = arr_copy[5:]\n",
        "arr_partial[:] = 100        #original arr didn't get changed\n",
        "\n",
        "print(arr)\n",
        "print(arr_partial)\n",
        "print(arr_copy)"
      ],
      "metadata": {
        "id": "yXaK7aNuGCL_",
        "outputId": "50149b53-9a97-4aa4-b4b1-023b17a178cc",
        "colab": {
          "base_uri": "https://localhost:8080/"
        }
      },
      "execution_count": 38,
      "outputs": [
        {
          "output_type": "stream",
          "name": "stdout",
          "text": [
            "[0 1 2 3 4 5 6 7 8 9]\n",
            "[100 100 100 100 100]\n",
            "[  0   1   2   3   4 100 100 100 100 100]\n",
            "[0 1 2 3 4 5 6 7 8 9]\n",
            "[100 100 100 100 100]\n",
            "[  0   1   2   3   4 100 100 100 100 100]\n"
          ]
        }
      ]
    }
  ]
}