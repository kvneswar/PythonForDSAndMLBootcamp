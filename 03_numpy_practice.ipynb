{
  "nbformat": 4,
  "nbformat_minor": 0,
  "metadata": {
    "colab": {
      "provenance": [],
      "authorship_tag": "ABX9TyNgynCN/xVi88n5Wh78uhQA",
      "include_colab_link": true
    },
    "kernelspec": {
      "name": "python3",
      "display_name": "Python 3"
    },
    "language_info": {
      "name": "python"
    }
  },
  "cells": [
    {
      "cell_type": "markdown",
      "metadata": {
        "id": "view-in-github",
        "colab_type": "text"
      },
      "source": [
        "<a href=\"https://colab.research.google.com/github/kvneswar/PythonForDSAndMLBootcamp/blob/main/03_numpy_practice.ipynb\" target=\"_parent\"><img src=\"https://colab.research.google.com/assets/colab-badge.svg\" alt=\"Open In Colab\"/></a>"
      ]
    },
    {
      "cell_type": "markdown",
      "source": [
        "*   NumPy is a Linear Algebra Library in Python\n",
        "*   Almost all the libraries in PyData are rely on NumPy as one or their building blocks.\n",
        "*It is incredibly fast, as it has binding to C libraries\n",
        "# * To install NumPy -> **conda install numpy** or **pip install numpy**\n",
        "\n",
        "\n",
        "*   NumPy arrays comes in 2 falvors i.e. vectors and matrices\n",
        "*   vectors are 1 dimentional and matrices are 2D (or it can have one row or one column)\n",
        "\n",
        "\n",
        "\n",
        "    \n",
        "\n"
      ],
      "metadata": {
        "id": "sRGMr8WFJfED"
      }
    },
    {
      "cell_type": "code",
      "source": [
        "import numpy as np"
      ],
      "metadata": {
        "id": "0z4OTEoYQmUQ"
      },
      "execution_count": 1,
      "outputs": []
    },
    {
      "cell_type": "code",
      "source": [
        "arr = np.array([1, 2, 3])\n",
        "\n",
        "arr #for the type"
      ],
      "metadata": {
        "colab": {
          "base_uri": "https://localhost:8080/"
        },
        "id": "AzW6pzh3QukC",
        "outputId": "48081bf4-13d8-4163-e415-a44b9ad6da66"
      },
      "execution_count": null,
      "outputs": [
        {
          "output_type": "execute_result",
          "data": {
            "text/plain": [
              "array([1, 2, 3])"
            ]
          },
          "metadata": {},
          "execution_count": 8
        }
      ]
    },
    {
      "cell_type": "code",
      "source": [
        "print(arr)\n",
        "\n",
        "my_mat = np.array([[1, 2], [3, 4]])\n",
        "\n",
        "my_mat"
      ],
      "metadata": {
        "colab": {
          "base_uri": "https://localhost:8080/"
        },
        "id": "GKuALIfuRjgb",
        "outputId": "fe537036-4213-4831-8100-ff02994a67bd"
      },
      "execution_count": null,
      "outputs": [
        {
          "output_type": "stream",
          "name": "stdout",
          "text": [
            "[1 2 3]\n"
          ]
        },
        {
          "output_type": "execute_result",
          "data": {
            "text/plain": [
              "array([[1, 2],\n",
              "       [3, 4]])"
            ]
          },
          "metadata": {},
          "execution_count": 11
        }
      ]
    },
    {
      "cell_type": "code",
      "source": [
        "print(np.arange(0, 10)) #similar to range function in list\n",
        "print(np.arange(0, 10, 4)) #to skip\n",
        "\n",
        "print(np.zeros((2, 3)))\n",
        "\n",
        "print(np.eye(4))"
      ],
      "metadata": {
        "colab": {
          "base_uri": "https://localhost:8080/"
        },
        "id": "T92XRLpQSGI6",
        "outputId": "eaea814d-7cdd-4311-aac3-4fa6853415aa"
      },
      "execution_count": null,
      "outputs": [
        {
          "output_type": "stream",
          "name": "stdout",
          "text": [
            "[0 1 2 3 4 5 6 7 8 9]\n",
            "[0 4 8]\n",
            "[[0. 0. 0.]\n",
            " [0. 0. 0.]]\n",
            "[[1. 0. 0. 0.]\n",
            " [0. 1. 0. 0.]\n",
            " [0. 0. 1. 0.]\n",
            " [0. 0. 0. 1.]]\n"
          ]
        }
      ]
    },
    {
      "cell_type": "code",
      "source": [
        "print(np.random.rand())\n",
        "print(np.random.rand(5))\n",
        "print(np.random.rand(5, 5))\n",
        "print(np.random.randn(5))\n",
        "print(np.random.randn(5, 5))\n",
        "\n",
        "print(np.random.randint(10))\n",
        "print(np.random.randint(0, 20, 5)) # 5 random integers b/w 0-20"
      ],
      "metadata": {
        "colab": {
          "base_uri": "https://localhost:8080/"
        },
        "id": "Sp4OwrZ6DsYG",
        "outputId": "be04ff7b-7954-44c0-a678-e5846d5c5551"
      },
      "execution_count": null,
      "outputs": [
        {
          "output_type": "stream",
          "name": "stdout",
          "text": [
            "0.7792110036011262\n",
            "[0.70275356 0.79213705 0.91800178 0.26049419 0.64345346]\n",
            "[[0.45103425 0.05144747 0.41962183 0.02921816 0.4421643 ]\n",
            " [0.75756085 0.80100231 0.21450052 0.62352538 0.56604142]\n",
            " [0.11035255 0.07177668 0.91685418 0.97158829 0.9450414 ]\n",
            " [0.03721262 0.70463355 0.503701   0.95746268 0.9931466 ]\n",
            " [0.37219409 0.27626489 0.62775797 0.27127616 0.49469966]]\n",
            "[-1.0701014   1.39625297 -0.0310707   0.28366732  0.81587908]\n",
            "[[ 0.67384022  0.60616554  1.38277825  0.09706521  0.84345084]\n",
            " [ 1.13929734  0.50465094  0.34070484 -0.25558744  0.5847857 ]\n",
            " [ 0.62292648 -0.67835936 -0.42960241  1.14618313 -1.14501254]\n",
            " [-0.26981658  0.31273704  0.64009876 -0.16081863  0.11428551]\n",
            " [-1.01473     0.09042117 -1.21461408 -1.64860055 -1.16465256]]\n",
            "0\n",
            "[ 5 15 18  9  5]\n"
          ]
        }
      ]
    },
    {
      "cell_type": "code",
      "source": [
        "new_array = np.random.randint(0, 100, 5)\n",
        "\n",
        "print(new_array)\n",
        "print(new_array.max())\n",
        "print(new_array.argmax()) #max element location\n",
        "print(new_array.min())\n",
        "print(new_array.argmin()) #min element location\n",
        "\n",
        "print(new_array.shape) #returns the array dimension\n",
        "print(new_array.dtype) #data type of the array\n"
      ],
      "metadata": {
        "id": "mOIr6x_v8LCz",
        "outputId": "e0442291-cdf3-4bca-a561-f1cabbe049a1",
        "colab": {
          "base_uri": "https://localhost:8080/"
        }
      },
      "execution_count": null,
      "outputs": [
        {
          "output_type": "stream",
          "name": "stdout",
          "text": [
            "[33 11 46 60 42]\n",
            "60\n",
            "3\n",
            "11\n",
            "1\n",
            "(5,)\n",
            "int64\n"
          ]
        }
      ]
    },
    {
      "cell_type": "code",
      "source": [
        "from numpy.random import randint #like the static import\n",
        "\n",
        "print(randint(0, 100, 10))"
      ],
      "metadata": {
        "id": "Mz2tJpyA-lBB",
        "outputId": "3c6fb6d1-0b6b-416f-8875-3f29476c9bb6",
        "colab": {
          "base_uri": "https://localhost:8080/"
        }
      },
      "execution_count": null,
      "outputs": [
        {
          "output_type": "stream",
          "name": "stdout",
          "text": [
            "[57  6 44 44 34 17 63 47  5 79]\n"
          ]
        }
      ]
    },
    {
      "cell_type": "markdown",
      "source": [
        "# NUMPY INDEXING"
      ],
      "metadata": {
        "id": "c9Q7yoGQ_08l"
      }
    },
    {
      "cell_type": "code",
      "source": [
        "arr = np.arange(0, 10)\n",
        "\n",
        "print(arr)\n",
        "\n",
        "print(arr[0:4])\n",
        "print(arr[:-4])\n",
        "print(arr[5:])"
      ],
      "metadata": {
        "id": "-MFy_sWZEnxn",
        "outputId": "30977822-fece-4f1a-935d-1804f6d8f547",
        "colab": {
          "base_uri": "https://localhost:8080/"
        }
      },
      "execution_count": null,
      "outputs": [
        {
          "output_type": "stream",
          "name": "stdout",
          "text": [
            "[0 1 2 3 4 5 6 7 8 9]\n",
            "[0 1 2 3]\n",
            "[0 1 2 3 4 5]\n",
            "[5 6 7 8 9]\n"
          ]
        }
      ]
    },
    {
      "cell_type": "markdown",
      "source": [
        "# PASS BY REFERENCE"
      ],
      "metadata": {
        "id": "9Kqb8LGNFzX9"
      }
    },
    {
      "cell_type": "code",
      "source": [
        "arr = np.arange(0, 10)\n",
        "\n",
        "print(arr)\n",
        "\n",
        "arr_partial = arr[5:]\n",
        "\n",
        "arr_partial[:] = 100 #original reference also getting updated\n",
        "\n",
        "print(arr_partial)\n",
        "print(arr)\n",
        "\n",
        "arr = np.arange(0, 10)\n",
        "\n",
        "arr_copy = arr.copy()\n",
        "\n",
        "arr_partial = arr_copy[5:]\n",
        "arr_partial[:] = 100        #original arr didn't get changed\n",
        "\n",
        "print(arr)\n",
        "print(arr_partial)\n",
        "print(arr_copy)"
      ],
      "metadata": {
        "id": "yXaK7aNuGCL_",
        "outputId": "50149b53-9a97-4aa4-b4b1-023b17a178cc",
        "colab": {
          "base_uri": "https://localhost:8080/"
        }
      },
      "execution_count": null,
      "outputs": [
        {
          "output_type": "stream",
          "name": "stdout",
          "text": [
            "[0 1 2 3 4 5 6 7 8 9]\n",
            "[100 100 100 100 100]\n",
            "[  0   1   2   3   4 100 100 100 100 100]\n",
            "[0 1 2 3 4 5 6 7 8 9]\n",
            "[100 100 100 100 100]\n",
            "[  0   1   2   3   4 100 100 100 100 100]\n"
          ]
        }
      ]
    },
    {
      "cell_type": "code",
      "source": [
        "#2D ARRAY\n",
        "\n",
        "arr_2d = np.array([[5, 10, 15], \n",
        "          [20, 25, 30], \n",
        "          [30, 35, 40]])\n",
        "\n",
        "print(arr_2d)\n",
        "\n",
        "print(arr_2d[0])\n",
        "\n",
        "print(arr_2d[0][0]) \n",
        "print(arr_2d[0, 0]) #both are the same\n",
        "\n",
        "#to get the top right corner\n",
        "print(arr_2d[:2, 1:])\n"
      ],
      "metadata": {
        "colab": {
          "base_uri": "https://localhost:8080/"
        },
        "id": "ESv82Zc-fE4o",
        "outputId": "c419576f-16d5-4a20-eceb-d1744a2cc022"
      },
      "execution_count": 4,
      "outputs": [
        {
          "output_type": "stream",
          "name": "stdout",
          "text": [
            "[[ 5 10 15]\n",
            " [20 25 30]\n",
            " [30 35 40]]\n",
            "[ 5 10 15]\n",
            "5\n",
            "5\n",
            "[[10 15]\n",
            " [25 30]]\n"
          ]
        }
      ]
    },
    {
      "cell_type": "code",
      "source": [
        "#CONDITIONAL SELECTION\n",
        "\n",
        "arr = np.arange(0, 11)\n",
        "\n",
        "print(arr)\n",
        "\n",
        "bool_arr = arr > 5\n",
        "\n",
        "print(bool_arr)\n",
        "\n",
        "print(arr[bool_arr])\n",
        "\n",
        "print(arr[arr<3])\n"
      ],
      "metadata": {
        "colab": {
          "base_uri": "https://localhost:8080/"
        },
        "id": "pKn0lz2qg2jB",
        "outputId": "04101d22-c9f9-4dbf-8c49-15d639c7ac30"
      },
      "execution_count": 10,
      "outputs": [
        {
          "output_type": "stream",
          "name": "stdout",
          "text": [
            "[ 0  1  2  3  4  5  6  7  8  9 10]\n",
            "[False False False False False False  True  True  True  True  True]\n",
            "[ 6  7  8  9 10]\n",
            "[0 1 2]\n"
          ]
        }
      ]
    },
    {
      "cell_type": "code",
      "source": [
        "print(np.arange(50).reshape(5, 10))"
      ],
      "metadata": {
        "colab": {
          "base_uri": "https://localhost:8080/"
        },
        "id": "gAvcGeAYi-iQ",
        "outputId": "9ea0ed37-ad58-4e1c-e5be-0b2e0f8c3ec9"
      },
      "execution_count": 11,
      "outputs": [
        {
          "output_type": "stream",
          "name": "stdout",
          "text": [
            "[[ 0  1  2  3  4  5  6  7  8  9]\n",
            " [10 11 12 13 14 15 16 17 18 19]\n",
            " [20 21 22 23 24 25 26 27 28 29]\n",
            " [30 31 32 33 34 35 36 37 38 39]\n",
            " [40 41 42 43 44 45 46 47 48 49]]\n"
          ]
        }
      ]
    },
    {
      "cell_type": "code",
      "source": [
        "#NUMPY OPERATIONS\n",
        "\n",
        "arr = np.arange(1, 10)\n",
        "\n",
        "print(arr)\n",
        "\n",
        "print(arr + arr)\n",
        "print(arr - arr)\n",
        "print(arr * arr)\n",
        "print(arr / arr)\n",
        "print(arr + 100)\n",
        "print(np.sqrt(arr))\n",
        "print(np.sin(arr))\n",
        "print(np.log(arr))\n",
        "\n",
        "#ADDITIONAL FUNCTIONS https://docs.scipy.org/doc/numpy-1.10.1/reference/ufuncs.html"
      ],
      "metadata": {
        "colab": {
          "base_uri": "https://localhost:8080/"
        },
        "id": "YtWSvlQpmkBH",
        "outputId": "75a268f7-3198-4c32-a7c6-5d25a30501b7"
      },
      "execution_count": 19,
      "outputs": [
        {
          "output_type": "stream",
          "name": "stdout",
          "text": [
            "[1 2 3 4 5 6 7 8 9]\n",
            "[ 2  4  6  8 10 12 14 16 18]\n",
            "[0 0 0 0 0 0 0 0 0]\n",
            "[ 1  4  9 16 25 36 49 64 81]\n",
            "[1. 1. 1. 1. 1. 1. 1. 1. 1.]\n",
            "[101 102 103 104 105 106 107 108 109]\n",
            "[1.         1.41421356 1.73205081 2.         2.23606798 2.44948974\n",
            " 2.64575131 2.82842712 3.        ]\n",
            "[ 0.84147098  0.90929743  0.14112001 -0.7568025  -0.95892427 -0.2794155\n",
            "  0.6569866   0.98935825  0.41211849]\n",
            "[0.         0.69314718 1.09861229 1.38629436 1.60943791 1.79175947\n",
            " 1.94591015 2.07944154 2.19722458]\n"
          ]
        }
      ]
    }
  ]
}