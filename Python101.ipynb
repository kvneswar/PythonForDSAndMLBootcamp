{
  "nbformat": 4,
  "nbformat_minor": 0,
  "metadata": {
    "colab": {
      "provenance": [],
      "toc_visible": true,
      "authorship_tag": "ABX9TyMfyPuyLKb+EPVtUna2eTVH",
      "include_colab_link": true
    },
    "kernelspec": {
      "name": "python3",
      "display_name": "Python 3"
    },
    "language_info": {
      "name": "python"
    }
  },
  "cells": [
    {
      "cell_type": "markdown",
      "metadata": {
        "id": "view-in-github",
        "colab_type": "text"
      },
      "source": [
        "<a href=\"https://colab.research.google.com/github/kvneswar/PythonForDSAndMLBootcamp/blob/main/Python101.ipynb\" target=\"_parent\"><img src=\"https://colab.research.google.com/assets/colab-badge.svg\" alt=\"Open In Colab\"/></a>"
      ]
    },
    {
      "cell_type": "markdown",
      "source": [
        "String\n",
        "\n",
        "\n",
        "1.   We can user signgle quote or double quotes\n",
        "\n"
      ],
      "metadata": {
        "id": "JROkxxCqYb6Q"
      }
    },
    {
      "cell_type": "code",
      "source": [
        "str = 'Hello, World!'\n",
        "\n",
        "str"
      ],
      "metadata": {
        "id": "InNoujwgZVWs",
        "outputId": "a6b1ff04-3499-437e-ef8d-86751c92d646",
        "colab": {
          "base_uri": "https://localhost:8080/",
          "height": 35
        }
      },
      "execution_count": 20,
      "outputs": [
        {
          "output_type": "execute_result",
          "data": {
            "text/plain": [
              "'Hello, World!'"
            ],
            "application/vnd.google.colaboratory.intrinsic+json": {
              "type": "string"
            }
          },
          "metadata": {},
          "execution_count": 20
        }
      ]
    },
    {
      "cell_type": "code",
      "source": [
        "str = \"Hello, again\"\n",
        "\n",
        "print(str)\n",
        "\n",
        "#see the difference b/w this one and the above one"
      ],
      "metadata": {
        "id": "cV3e-TCxZhy8",
        "outputId": "7f641fd1-ff42-4cf0-a556-d68078e7ff31",
        "colab": {
          "base_uri": "https://localhost:8080/"
        }
      },
      "execution_count": 24,
      "outputs": [
        {
          "output_type": "stream",
          "name": "stdout",
          "text": [
            "Hello, again\n"
          ]
        }
      ]
    },
    {
      "cell_type": "code",
      "source": [
        "str = \"It's me\"\n",
        "\n",
        "str"
      ],
      "metadata": {
        "id": "wC-Sv-c4ZoY3",
        "outputId": "f1169744-69b6-4d02-abd7-96ee5110f0fe",
        "colab": {
          "base_uri": "https://localhost:8080/",
          "height": 35
        }
      },
      "execution_count": 19,
      "outputs": [
        {
          "output_type": "execute_result",
          "data": {
            "text/plain": [
              "\"It's me\""
            ],
            "application/vnd.google.colaboratory.intrinsic+json": {
              "type": "string"
            }
          },
          "metadata": {},
          "execution_count": 19
        }
      ]
    },
    {
      "cell_type": "code",
      "source": [
        "print('My name is {}'.format('Eswar'))"
      ],
      "metadata": {
        "id": "q4DHUV2KZqJc",
        "outputId": "aa024f3c-46f2-4ca2-ee09-2e01434b3b25",
        "colab": {
          "base_uri": "https://localhost:8080/"
        }
      },
      "execution_count": 25,
      "outputs": [
        {
          "output_type": "stream",
          "name": "stdout",
          "text": [
            "My name is Eswar\n"
          ]
        }
      ]
    },
    {
      "cell_type": "code",
      "source": [
        "print('My name is {firstName}, {lastname}'.format(firstName = 'Eswar', lastname = 'Karumuri'))"
      ],
      "metadata": {
        "id": "CLwsPkD_bIsQ",
        "outputId": "6f15f700-ede1-48e3-b5ca-cb4db9218f86",
        "colab": {
          "base_uri": "https://localhost:8080/"
        }
      },
      "execution_count": 26,
      "outputs": [
        {
          "output_type": "stream",
          "name": "stdout",
          "text": [
            "My name is Eswar, Karumuri\n"
          ]
        }
      ]
    },
    {
      "cell_type": "code",
      "source": [
        "str = 'Hello'\n",
        "\n",
        "print(str[0])\n",
        "print(str[0:])\n",
        "print(str[0:-2])\n",
        "print(str[3:-1])"
      ],
      "metadata": {
        "id": "kwjKQ7LwbxLI",
        "outputId": "8f6be89b-5494-4898-829e-66645b77fcad",
        "colab": {
          "base_uri": "https://localhost:8080/"
        }
      },
      "execution_count": 33,
      "outputs": [
        {
          "output_type": "stream",
          "name": "stdout",
          "text": [
            "H\n",
            "Hello\n",
            "Hel\n",
            "l\n"
          ]
        }
      ]
    },
    {
      "cell_type": "code",
      "source": [],
      "metadata": {
        "id": "ajTpsik4cSZw"
      },
      "execution_count": null,
      "outputs": []
    }
  ]
}