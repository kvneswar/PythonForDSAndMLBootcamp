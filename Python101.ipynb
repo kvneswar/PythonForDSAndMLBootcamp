{
  "nbformat": 4,
  "nbformat_minor": 0,
  "metadata": {
    "colab": {
      "provenance": [],
      "authorship_tag": "ABX9TyP3Gkrz0LQe/cJwXaZeS8YY",
      "include_colab_link": true
    },
    "kernelspec": {
      "name": "python3",
      "display_name": "Python 3"
    },
    "language_info": {
      "name": "python"
    }
  },
  "cells": [
    {
      "cell_type": "markdown",
      "metadata": {
        "id": "view-in-github",
        "colab_type": "text"
      },
      "source": [
        "<a href=\"https://colab.research.google.com/github/kvneswar/PythonForDSAndMLBootcamp/blob/main/Python101.ipynb\" target=\"_parent\"><img src=\"https://colab.research.google.com/assets/colab-badge.svg\" alt=\"Open In Colab\"/></a>"
      ]
    },
    {
      "cell_type": "markdown",
      "source": [
        "String\n",
        "\n",
        "\n",
        "1.   We can user signgle quote or double quotes\n",
        "\n"
      ],
      "metadata": {
        "id": "JROkxxCqYb6Q"
      }
    },
    {
      "cell_type": "code",
      "source": [
        "str = 'Hello, World!'\n",
        "\n",
        "str"
      ],
      "metadata": {
        "colab": {
          "base_uri": "https://localhost:8080/",
          "height": 35
        },
        "id": "InNoujwgZVWs",
        "outputId": "a6b1ff04-3499-437e-ef8d-86751c92d646"
      },
      "execution_count": null,
      "outputs": [
        {
          "output_type": "execute_result",
          "data": {
            "text/plain": [
              "'Hello, World!'"
            ],
            "application/vnd.google.colaboratory.intrinsic+json": {
              "type": "string"
            }
          },
          "metadata": {},
          "execution_count": 20
        }
      ]
    },
    {
      "cell_type": "code",
      "source": [
        "str = \"Hello, again\"\n",
        "\n",
        "print(str)\n",
        "\n",
        "#see the difference b/w this one and the above one"
      ],
      "metadata": {
        "colab": {
          "base_uri": "https://localhost:8080/"
        },
        "id": "cV3e-TCxZhy8",
        "outputId": "7f641fd1-ff42-4cf0-a556-d68078e7ff31"
      },
      "execution_count": null,
      "outputs": [
        {
          "output_type": "stream",
          "name": "stdout",
          "text": [
            "Hello, again\n"
          ]
        }
      ]
    },
    {
      "cell_type": "code",
      "source": [
        "str = \"It's me\"\n",
        "\n",
        "str"
      ],
      "metadata": {
        "colab": {
          "base_uri": "https://localhost:8080/",
          "height": 35
        },
        "id": "wC-Sv-c4ZoY3",
        "outputId": "f1169744-69b6-4d02-abd7-96ee5110f0fe"
      },
      "execution_count": null,
      "outputs": [
        {
          "output_type": "execute_result",
          "data": {
            "text/plain": [
              "\"It's me\""
            ],
            "application/vnd.google.colaboratory.intrinsic+json": {
              "type": "string"
            }
          },
          "metadata": {},
          "execution_count": 19
        }
      ]
    },
    {
      "cell_type": "code",
      "source": [
        "print('My name is {}'.format('Eswar'))"
      ],
      "metadata": {
        "colab": {
          "base_uri": "https://localhost:8080/"
        },
        "id": "q4DHUV2KZqJc",
        "outputId": "aa024f3c-46f2-4ca2-ee09-2e01434b3b25"
      },
      "execution_count": null,
      "outputs": [
        {
          "output_type": "stream",
          "name": "stdout",
          "text": [
            "My name is Eswar\n"
          ]
        }
      ]
    },
    {
      "cell_type": "code",
      "source": [
        "print('My name is {firstName}, {lastname}'.format(firstName = 'Eswar', lastname = 'Karumuri'))"
      ],
      "metadata": {
        "colab": {
          "base_uri": "https://localhost:8080/"
        },
        "id": "CLwsPkD_bIsQ",
        "outputId": "6f15f700-ede1-48e3-b5ca-cb4db9218f86"
      },
      "execution_count": null,
      "outputs": [
        {
          "output_type": "stream",
          "name": "stdout",
          "text": [
            "My name is Eswar, Karumuri\n"
          ]
        }
      ]
    },
    {
      "cell_type": "code",
      "source": [
        "str = 'Hello'\n",
        "\n",
        "print(str[0])\n",
        "print(str[0:])\n",
        "print(str[0:-2])\n",
        "print(str[3:-1])\n",
        "print(str[:-1])"
      ],
      "metadata": {
        "colab": {
          "base_uri": "https://localhost:8080/"
        },
        "id": "kwjKQ7LwbxLI",
        "outputId": "1cb5dd4d-7a04-4681-a824-3d8bcaae4532"
      },
      "execution_count": null,
      "outputs": [
        {
          "output_type": "stream",
          "name": "stdout",
          "text": [
            "H\n",
            "Hello\n",
            "Hel\n",
            "l\n",
            "Hell\n"
          ]
        }
      ]
    },
    {
      "cell_type": "code",
      "source": [
        "my_list = [1, 2, 3]\n",
        "\n",
        "print(my_list)\n",
        "print(my_list[0 : 1])\n",
        "print(my_list[ : -1])\n",
        "\n",
        "my_list[0] = 'X'\n",
        "\n",
        "print(my_list)\n",
        "\n",
        "my_list.append(4) # add to a list\n",
        "\n",
        "print(my_list)"
      ],
      "metadata": {
        "colab": {
          "base_uri": "https://localhost:8080/"
        },
        "id": "ajTpsik4cSZw",
        "outputId": "f04410a8-1dec-44ab-d4db-bfc767908490"
      },
      "execution_count": null,
      "outputs": [
        {
          "output_type": "stream",
          "name": "stdout",
          "text": [
            "[1, 2, 3]\n",
            "[1]\n",
            "[1, 2]\n",
            "['X', 2, 3]\n",
            "['X', 2, 3, 4]\n"
          ]
        }
      ]
    },
    {
      "cell_type": "code",
      "source": [
        "nested_list = [1, 2, [3, 4]]\n",
        "\n",
        "print(nested_list[2][0])"
      ],
      "metadata": {
        "id": "6jh1Uo7VdCCP",
        "outputId": "5080da7f-e32e-4c78-dcdb-521c97bb0116",
        "colab": {
          "base_uri": "https://localhost:8080/"
        }
      },
      "execution_count": null,
      "outputs": [
        {
          "output_type": "stream",
          "name": "stdout",
          "text": [
            "3\n"
          ]
        }
      ]
    },
    {
      "cell_type": "code",
      "source": [
        "dictionary = {'key1': 'val1', 'key2': [1, 2, 3]}\n",
        "\n",
        "print(dictionary['key1'])\n",
        "\n",
        "print(dictionary['key1'][0])\n",
        "print(dictionary['key2'][0])"
      ],
      "metadata": {
        "id": "NhzkPuaxf8uR",
        "outputId": "726ed1fa-383a-4599-dc2a-2173d4829914",
        "colab": {
          "base_uri": "https://localhost:8080/"
        }
      },
      "execution_count": null,
      "outputs": [
        {
          "output_type": "stream",
          "name": "stdout",
          "text": [
            "val1\n",
            "v\n",
            "1\n"
          ]
        }
      ]
    },
    {
      "cell_type": "code",
      "source": [
        "tuple = (1, 2, 3)\n",
        "\n",
        "print(tuple)\n",
        "\n",
        "print(tuple[0])\n",
        "print(tuple[:-1])\n",
        "\n",
        "#tuple[0] = 4 TUPLE is immutable"
      ],
      "metadata": {
        "id": "hu8U7q4_mgx0",
        "outputId": "54ffc462-ed42-41af-e9b6-e35ff792ec07",
        "colab": {
          "base_uri": "https://localhost:8080/"
        }
      },
      "execution_count": null,
      "outputs": [
        {
          "output_type": "stream",
          "name": "stdout",
          "text": [
            "(1, 2, 3)\n",
            "1\n",
            "(1, 2)\n"
          ]
        }
      ]
    },
    {
      "cell_type": "code",
      "source": [
        "set = {1, 2, 2, 3}\n",
        "\n",
        "print(set)\n",
        "\n",
        "set.add(4)\n",
        "\n",
        "print(set)"
      ],
      "metadata": {
        "id": "a_vsqoc82BCv",
        "outputId": "52ccb630-3aab-4746-e329-cbd9bc3ecedf",
        "colab": {
          "base_uri": "https://localhost:8080/"
        }
      },
      "execution_count": null,
      "outputs": [
        {
          "output_type": "stream",
          "name": "stdout",
          "text": [
            "{1, 2, 3}\n",
            "{1, 2, 3, 4}\n"
          ]
        }
      ]
    },
    {
      "cell_type": "code",
      "source": [
        "if(1 == 1):\n",
        "  print('True')\n",
        "elif(1 != 1):\n",
        "  print(\"False\")\n",
        "else:\n",
        "  print('False')"
      ],
      "metadata": {
        "id": "tltKUnWL3Heb",
        "outputId": "0c74340b-230d-4691-d521-076ef3a9c46e",
        "colab": {
          "base_uri": "https://localhost:8080/"
        }
      },
      "execution_count": null,
      "outputs": [
        {
          "output_type": "stream",
          "name": "stdout",
          "text": [
            "True\n"
          ]
        }
      ]
    },
    {
      "cell_type": "code",
      "source": [
        "my_list = [1, 2, 3]\n",
        "\n",
        "for item in my_list:\n",
        "  print(item)\n",
        "\n",
        "counter = 0\n",
        "\n",
        "while counter < 3:\n",
        "  print(my_list[counter])\n",
        "\n",
        "  counter += 1"
      ],
      "metadata": {
        "id": "XwlSV9TO3sjs",
        "outputId": "4b7192d0-f0d1-4cad-96be-762fc7c3ee1e",
        "colab": {
          "base_uri": "https://localhost:8080/"
        }
      },
      "execution_count": null,
      "outputs": [
        {
          "output_type": "stream",
          "name": "stdout",
          "text": [
            "1\n",
            "2\n",
            "3\n",
            "1\n",
            "2\n",
            "3\n"
          ]
        }
      ]
    },
    {
      "cell_type": "code",
      "source": [
        "for item in range(0, 10):\n",
        "  print(item)\n",
        "\n",
        "print(range(0, 10))\n",
        "\n",
        "print(list(range(0, 10)))"
      ],
      "metadata": {
        "id": "2d_FUZl7KuwI",
        "outputId": "5cb436d7-f6c5-4f17-b0b8-e69933a8be18",
        "colab": {
          "base_uri": "https://localhost:8080/"
        }
      },
      "execution_count": 4,
      "outputs": [
        {
          "output_type": "stream",
          "name": "stdout",
          "text": [
            "0\n",
            "1\n",
            "2\n",
            "3\n",
            "4\n",
            "5\n",
            "6\n",
            "7\n",
            "8\n",
            "9\n",
            "range(0, 10)\n",
            "[0, 1, 2, 3, 4, 5, 6, 7, 8, 9]\n"
          ]
        }
      ]
    },
    {
      "cell_type": "code",
      "source": [
        "#set the elements in the list\n",
        "\n",
        "input = [0, 1, 2, 3]\n",
        "\n",
        "output = []\n",
        "\n",
        "for item in input:\n",
        "  output.append(item)\n",
        "\n",
        "print(output)\n",
        "\n",
        "print([item for item in input])\n",
        "\n",
        "output = [item for item in input]\n",
        "\n",
        "print(output)"
      ],
      "metadata": {
        "id": "RKUbc2LaNEcV",
        "outputId": "41416215-e45a-4996-a52b-07d504845cf5",
        "colab": {
          "base_uri": "https://localhost:8080/"
        }
      },
      "execution_count": 10,
      "outputs": [
        {
          "output_type": "stream",
          "name": "stdout",
          "text": [
            "[0, 1, 2, 3]\n",
            "[0, 1, 2, 3]\n",
            "[0, 1, 2, 3]\n"
          ]
        }
      ]
    }
  ]
}