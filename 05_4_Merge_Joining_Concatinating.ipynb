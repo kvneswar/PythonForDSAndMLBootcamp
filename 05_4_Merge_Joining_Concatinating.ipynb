{
  "nbformat": 4,
  "nbformat_minor": 0,
  "metadata": {
    "colab": {
      "provenance": [],
      "authorship_tag": "ABX9TyOwykr3mpyl3BO6cQmY/0Fv",
      "include_colab_link": true
    },
    "kernelspec": {
      "name": "python3",
      "display_name": "Python 3"
    },
    "language_info": {
      "name": "python"
    }
  },
  "cells": [
    {
      "cell_type": "markdown",
      "metadata": {
        "id": "view-in-github",
        "colab_type": "text"
      },
      "source": [
        "<a href=\"https://colab.research.google.com/github/kvneswar/PythonForDSAndMLBootcamp/blob/main/05_4_Merge_Joining_Concatinating.ipynb\" target=\"_parent\"><img src=\"https://colab.research.google.com/assets/colab-badge.svg\" alt=\"Open In Colab\"/></a>"
      ]
    },
    {
      "cell_type": "code",
      "execution_count": 4,
      "metadata": {
        "colab": {
          "base_uri": "https://localhost:8080/"
        },
        "id": "8skAzgNQhqpa",
        "outputId": "381adb9c-778f-4b73-e260-da08df43407e"
      },
      "outputs": [
        {
          "output_type": "stream",
          "name": "stdout",
          "text": [
            "      A    B    C\n",
            "0    A0   B0   C0\n",
            "1    A1   B1   C1\n",
            "2    A2   B2   C2\n",
            "3    A3   B3   C3\n",
            "4    A4   B4   C4\n",
            "5    A5   B5   C5\n",
            "6    A6   B6   C6\n",
            "7    A7   B7   C7\n",
            "8    A8   B8   C8\n",
            "9    A9   B9   C9\n",
            "10  A10  B10  C10\n",
            "11  A11  B11  C11\n",
            "      A    B    C    A    B    C    A    B    C\n",
            "0    A0   B0   C0  NaN  NaN  NaN  NaN  NaN  NaN\n",
            "1    A1   B1   C1  NaN  NaN  NaN  NaN  NaN  NaN\n",
            "2    A2   B2   C2  NaN  NaN  NaN  NaN  NaN  NaN\n",
            "3    A3   B3   C3  NaN  NaN  NaN  NaN  NaN  NaN\n",
            "4   NaN  NaN  NaN   A4   B4   C4  NaN  NaN  NaN\n",
            "5   NaN  NaN  NaN   A5   B5   C5  NaN  NaN  NaN\n",
            "6   NaN  NaN  NaN   A6   B6   C6  NaN  NaN  NaN\n",
            "7   NaN  NaN  NaN   A7   B7   C7  NaN  NaN  NaN\n",
            "8   NaN  NaN  NaN  NaN  NaN  NaN   A8   B8   C8\n",
            "9   NaN  NaN  NaN  NaN  NaN  NaN   A9   B9   C9\n",
            "10  NaN  NaN  NaN  NaN  NaN  NaN  A10  B10  C10\n",
            "11  NaN  NaN  NaN  NaN  NaN  NaN  A11  B11  C11\n"
          ]
        }
      ],
      "source": [
        "import pandas as pd\n",
        "\n",
        "df1 = pd.DataFrame({'A': ['A0', 'A1', 'A2', 'A3'],\n",
        "                    'B': ['B0', 'B1', 'B2', 'B3'],\n",
        "                    'C': ['C0', 'C1', 'C2', 'C3']},\n",
        "                    index = [0, 1, 2, 3])\n",
        "\n",
        "df2 = pd.DataFrame({'A': ['A4', 'A5', 'A6', 'A7'],\n",
        "                    'B': ['B4', 'B5', 'B6', 'B7'],\n",
        "                    'C': ['C4', 'C5', 'C6', 'C7']},\n",
        "                    index = [4, 5, 6, 7])\n",
        "\n",
        "df3 = pd.DataFrame({'A': ['A8', 'A9', 'A10', 'A11'],\n",
        "                    'B': ['B8', 'B9', 'B10', 'B11'],\n",
        "                    'C': ['C8', 'C9', 'C10', 'C11']},\n",
        "                    index = [8, 9, 10, 11])\n",
        "\n",
        "print(pd.concat([df1, df2, df3]))\n",
        "\n",
        "print(pd.concat([df1, df2, df3], axis=1))"
      ]
    },
    {
      "cell_type": "code",
      "source": [
        "left = pd.DataFrame({'key': ['K0', 'K1', 'K2', 'K3'],\n",
        "                     'A': ['A0', 'A1', 'A2', 'A3'],\n",
        "                     'B': ['B0', 'B1', 'B2', 'B3']})\n",
        "\n",
        "right = pd.DataFrame({'key': ['K0', 'K1', 'K2', 'K3'],\n",
        "                     'C': ['C0', 'C1', 'C2', 'C3'],\n",
        "                     'D': ['D0', 'D1', 'D2', 'D3']})\n",
        "\n",
        "print(pd.merge(left, right, how='inner', on='key'))\n",
        "\n",
        "#it supports all different joins same as SQL joins"
      ],
      "metadata": {
        "colab": {
          "base_uri": "https://localhost:8080/"
        },
        "id": "gO7bozbwpXjV",
        "outputId": "1e7c77ab-7056-4dd5-adbc-a7dec5abea92"
      },
      "execution_count": 7,
      "outputs": [
        {
          "output_type": "stream",
          "name": "stdout",
          "text": [
            "  key   A   B   C   D\n",
            "0  K0  A0  B0  C0  D0\n",
            "1  K1  A1  B1  C1  D1\n",
            "2  K2  A2  B2  C2  D2\n",
            "3  K3  A3  B3  C3  D3\n"
          ]
        }
      ]
    }
  ]
}