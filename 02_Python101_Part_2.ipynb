{
  "nbformat": 4,
  "nbformat_minor": 0,
  "metadata": {
    "colab": {
      "provenance": [],
      "authorship_tag": "ABX9TyMYwdYNxJNzS29evp2jfakk",
      "include_colab_link": true
    },
    "kernelspec": {
      "name": "python3",
      "display_name": "Python 3"
    },
    "language_info": {
      "name": "python"
    }
  },
  "cells": [
    {
      "cell_type": "markdown",
      "metadata": {
        "id": "view-in-github",
        "colab_type": "text"
      },
      "source": [
        "<a href=\"https://colab.research.google.com/github/kvneswar/PythonForDSAndMLBootcamp/blob/main/02_Python101_Part_2.ipynb\" target=\"_parent\"><img src=\"https://colab.research.google.com/assets/colab-badge.svg\" alt=\"Open In Colab\"/></a>"
      ]
    },
    {
      "cell_type": "code",
      "execution_count": 7,
      "metadata": {
        "id": "YjkECcAyVDzB",
        "outputId": "7e5ac36c-a3fa-4432-93a1-ec70fb3a1ee6",
        "colab": {
          "base_uri": "https://localhost:8080/"
        }
      },
      "outputs": [
        {
          "output_type": "stream",
          "name": "stdout",
          "text": [
            "Eswar Karumuri\n"
          ]
        }
      ],
      "source": [
        "def my_func(firstName, lastname='Karumuri'):\n",
        "  \"\"\"\n",
        "    THIS IS A DOCUMENTATION STRING\n",
        "  \"\"\"\n",
        "  print(firstName +' '+ lastname)\n",
        "\n",
        "my_func('Eswar')"
      ]
    },
    {
      "cell_type": "code",
      "source": [
        "# LAMBDA EXPRESSIONS\n",
        "\n",
        "def times2(var): return var*2\n",
        "\n",
        "print(times2(3))\n",
        "\n",
        "times2 = lambda var:var*2\n",
        "\n",
        "print(times2(3))\n",
        "\n",
        "new_list = (list(map(lambda var : var * 2, range(0, 10)))) #MAP function\n",
        "\n",
        "print(new_list)"
      ],
      "metadata": {
        "id": "3YS0_csfYWVs",
        "outputId": "6a76a580-a1ce-4b94-dc20-8a176b95b35f",
        "colab": {
          "base_uri": "https://localhost:8080/"
        }
      },
      "execution_count": 16,
      "outputs": [
        {
          "output_type": "stream",
          "name": "stdout",
          "text": [
            "6\n",
            "6\n",
            "[0, 2, 4, 6, 8, 10, 12, 14, 16, 18]\n"
          ]
        }
      ]
    },
    {
      "cell_type": "code",
      "source": [
        "#FILTER\n",
        "\n",
        "filtered_list = list(filter(lambda var:var % 3 == 0, new_list))\n",
        "\n",
        "print(filtered_list)"
      ],
      "metadata": {
        "id": "K5NJaSeQandf",
        "outputId": "f3b5e0b8-8c44-4ab2-a87d-2bda38a5f001",
        "colab": {
          "base_uri": "https://localhost:8080/"
        }
      },
      "execution_count": 17,
      "outputs": [
        {
          "output_type": "stream",
          "name": "stdout",
          "text": [
            "[0, 6, 12, 18]\n"
          ]
        }
      ]
    },
    {
      "cell_type": "code",
      "source": [
        "str = 'Hello World'\n",
        "\n",
        "print(str.upper())\n",
        "print(str.lower())\n",
        "print(str.split()) #DEFAULT is WHITE SPACE otherwise pass an argument"
      ],
      "metadata": {
        "id": "M-N7i1sMbrR-",
        "outputId": "67ec8144-dd8d-43e7-b1ca-9bde95bdd6e2",
        "colab": {
          "base_uri": "https://localhost:8080/"
        }
      },
      "execution_count": 18,
      "outputs": [
        {
          "output_type": "stream",
          "name": "stdout",
          "text": [
            "HELLO WORLD\n",
            "hello world\n",
            "['Hello', 'World']\n"
          ]
        }
      ]
    },
    {
      "cell_type": "code",
      "source": [
        "#OTHER USEFUL methods\n",
        "\n",
        "new_list = [1, 2, 3]\n",
        "\n",
        "print(new_list.pop()) # pop the last element in a list\n",
        "\n",
        "print(len(new_list)) # length of a list\n",
        "\n",
        "new_map = {'K1': 'V1', 'K2': 'V2'}\n",
        "\n",
        "print(len(new_map))\n",
        "\n",
        "print(new_map.items())\n",
        "\n",
        "print(new_map.keys())\n",
        "\n",
        "print(new_map.values())\n"
      ],
      "metadata": {
        "id": "OnWsdNJw9q0J",
        "outputId": "88161b99-591e-4aef-d7a0-dd066d0220c0",
        "colab": {
          "base_uri": "https://localhost:8080/"
        }
      },
      "execution_count": 24,
      "outputs": [
        {
          "output_type": "stream",
          "name": "stdout",
          "text": [
            "3\n",
            "2\n",
            "2\n",
            "dict_items([('K1', 'V1'), ('K2', 'V2')])\n",
            "dict_keys(['K1', 'K2'])\n",
            "dict_values(['V1', 'V2'])\n"
          ]
        }
      ]
    }
  ]
}