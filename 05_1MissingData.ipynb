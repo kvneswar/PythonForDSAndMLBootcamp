{
  "nbformat": 4,
  "nbformat_minor": 0,
  "metadata": {
    "colab": {
      "provenance": [],
      "authorship_tag": "ABX9TyNFho+yPLaPQog1WTUyqd0a",
      "include_colab_link": true
    },
    "kernelspec": {
      "name": "python3",
      "display_name": "Python 3"
    },
    "language_info": {
      "name": "python"
    }
  },
  "cells": [
    {
      "cell_type": "markdown",
      "metadata": {
        "id": "view-in-github",
        "colab_type": "text"
      },
      "source": [
        "<a href=\"https://colab.research.google.com/github/kvneswar/PythonForDSAndMLBootcamp/blob/main/05_1MissingData.ipynb\" target=\"_parent\"><img src=\"https://colab.research.google.com/assets/colab-badge.svg\" alt=\"Open In Colab\"/></a>"
      ]
    },
    {
      "cell_type": "code",
      "execution_count": 11,
      "metadata": {
        "colab": {
          "base_uri": "https://localhost:8080/"
        },
        "id": "j140SEgo8m4D",
        "outputId": "d4692b42-2e30-49a2-ce18-524f817937f9"
      },
      "outputs": [
        {
          "output_type": "stream",
          "name": "stdout",
          "text": [
            "     A    B  C\n",
            "0  1.0  5.0  1\n",
            "1  2.0  NaN  2\n",
            "2  NaN  NaN  3\n",
            "     A    B  C\n",
            "0  1.0  5.0  1\n",
            "   C\n",
            "0  1\n",
            "1  2\n",
            "2  3\n",
            "     A    B  C\n",
            "0  1.0  5.0  1\n",
            "     A    B  C\n",
            "0  1.0  5.0  1\n",
            "1  2.0    X  2\n",
            "2    X    X  3\n",
            "0    1.0\n",
            "1    2.0\n",
            "2    1.5\n",
            "Name: A, dtype: float64\n"
          ]
        }
      ],
      "source": [
        "import numpy as np\n",
        "import pandas as pd\n",
        "\n",
        "d = {'A': [1, 2, np.NaN], 'B': [5, np.NaN, np.NaN], 'C': [1, 2, 3]}\n",
        "\n",
        "df = pd.DataFrame(d)\n",
        "\n",
        "print(df)\n",
        "\n",
        "print(df.dropna()) #if any one val is null in the row then the entire row will get dropped\n",
        "print(df.dropna(axis=1)) #if any one val is null in the column then the entire column will get dropped\n",
        "print(df.dropna(thresh=3)) #minimum number of nonnull values required\n",
        "print(df.fillna(value='X')) #to replace the null value with a constant\n",
        "\n",
        "#to replace the null values with a derived one\n",
        "print(df['A'].fillna(df['A'].mean()))"
      ]
    }
  ]
}