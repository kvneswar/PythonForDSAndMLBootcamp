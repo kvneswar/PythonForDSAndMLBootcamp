{
  "nbformat": 4,
  "nbformat_minor": 0,
  "metadata": {
    "colab": {
      "provenance": [],
      "authorship_tag": "ABX9TyOkXOKiE/8s+ebhtrgRc1Lw",
      "include_colab_link": true
    },
    "kernelspec": {
      "name": "python3",
      "display_name": "Python 3"
    },
    "language_info": {
      "name": "python"
    }
  },
  "cells": [
    {
      "cell_type": "markdown",
      "metadata": {
        "id": "view-in-github",
        "colab_type": "text"
      },
      "source": [
        "<a href=\"https://colab.research.google.com/github/kvneswar/PythonForDSAndMLBootcamp/blob/main/05_2_GroupBy.ipynb\" target=\"_parent\"><img src=\"https://colab.research.google.com/assets/colab-badge.svg\" alt=\"Open In Colab\"/></a>"
      ]
    },
    {
      "cell_type": "code",
      "execution_count": null,
      "metadata": {
        "id": "zQ9HH8WZR35K"
      },
      "outputs": [],
      "source": [
        "#It allows us to group together rows based off a column and perform an aggregate function\n",
        "\n",
        "import numpy as np\n",
        "import pandas as pd\n",
        "\n",
        "data = {'Company': ['GOOG', 'GOOG', 'MSFT', 'MSFT', 'FB', 'FB'], \n",
        "        'Person': ['Sam', 'Charlie', 'Amy', 'Vanessa', 'Carl', 'Sarah'],\n",
        "        'Sales': [200, 120, 340, 124, 243, 350],\n",
        "        'Profit': [100, 150, 200, 250, 300, 350]}\n",
        "\n",
        "df = pd.DataFrame(data)\n",
        "\n",
        "print(df)\n",
        "\n",
        "dComp = df.groupby('Company')\n",
        "\n",
        "print(dComp.sum())\n",
        "print(dComp.mean())\n",
        "print(dComp.sum())"
      ]
    }
  ]
}