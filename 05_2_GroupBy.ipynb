{
  "cells": [
    {
      "cell_type": "markdown",
      "metadata": {
        "id": "view-in-github",
        "colab_type": "text"
      },
      "source": [
        "<a href=\"https://colab.research.google.com/github/kvneswar/PythonForDSAndMLBootcamp/blob/main/05_2_GroupBy.ipynb\" target=\"_parent\"><img src=\"https://colab.research.google.com/assets/colab-badge.svg\" alt=\"Open In Colab\"/></a>"
      ]
    },
    {
      "cell_type": "code",
      "execution_count": 13,
      "metadata": {
        "colab": {
          "base_uri": "https://localhost:8080/"
        },
        "id": "zQ9HH8WZR35K",
        "outputId": "fdd18511-41a7-4d91-b053-c9778d2f2b30"
      },
      "outputs": [
        {
          "output_type": "stream",
          "name": "stdout",
          "text": [
            "  Company   Person  Sales  Profit\n",
            "0    GOOG      Sam    200     100\n",
            "1    GOOG  Charlie    120     150\n",
            "2    MSFT      Amy    340     200\n",
            "3    MSFT  Vanessa    124     250\n",
            "4      FB     Carl    243     300\n",
            "5      FB    Sarah    350     350\n",
            "         Sales  Profit\n",
            "Company               \n",
            "FB         593     650\n",
            "GOOG       320     250\n",
            "MSFT       464     450\n",
            "         Sales  Profit\n",
            "Company               \n",
            "FB       296.5   325.0\n",
            "GOOG     160.0   125.0\n",
            "MSFT     232.0   225.0\n",
            "              Sales     Profit\n",
            "Company                       \n",
            "FB        75.660426  35.355339\n",
            "GOOG      56.568542  35.355339\n",
            "MSFT     152.735065  35.355339\n",
            "          Person  Sales  Profit\n",
            "Company                        \n",
            "FB         Sarah    350     350\n",
            "GOOG         Sam    200     150\n",
            "MSFT     Vanessa    340     250\n",
            "          Person  Sales  Profit\n",
            "Company                        \n",
            "FB          Carl    243     300\n",
            "GOOG     Charlie    120     100\n",
            "MSFT         Amy    124     200\n",
            "        Sales                                                         Profit  \\\n",
            "        count   mean         std    min     25%    50%     75%    max  count   \n",
            "Company                                                                        \n",
            "FB        2.0  296.5   75.660426  243.0  269.75  296.5  323.25  350.0    2.0   \n",
            "GOOG      2.0  160.0   56.568542  120.0  140.00  160.0  180.00  200.0    2.0   \n",
            "MSFT      2.0  232.0  152.735065  124.0  178.00  232.0  286.00  340.0    2.0   \n",
            "\n",
            "                                                              \n",
            "          mean        std    min    25%    50%    75%    max  \n",
            "Company                                                       \n",
            "FB       325.0  35.355339  300.0  312.5  325.0  337.5  350.0  \n",
            "GOOG     125.0  35.355339  100.0  112.5  125.0  137.5  150.0  \n",
            "MSFT     225.0  35.355339  200.0  212.5  225.0  237.5  250.0  \n",
            "Company               FB        GOOG        MSFT\n",
            "Sales  count    2.000000    2.000000    2.000000\n",
            "       mean   296.500000  160.000000  232.000000\n",
            "       std     75.660426   56.568542  152.735065\n",
            "       min    243.000000  120.000000  124.000000\n",
            "       25%    269.750000  140.000000  178.000000\n",
            "       50%    296.500000  160.000000  232.000000\n",
            "       75%    323.250000  180.000000  286.000000\n",
            "       max    350.000000  200.000000  340.000000\n",
            "Profit count    2.000000    2.000000    2.000000\n",
            "       mean   325.000000  125.000000  225.000000\n",
            "       std     35.355339   35.355339   35.355339\n",
            "       min    300.000000  100.000000  200.000000\n",
            "       25%    312.500000  112.500000  212.500000\n",
            "       50%    325.000000  125.000000  225.000000\n",
            "       75%    337.500000  137.500000  237.500000\n",
            "       max    350.000000  150.000000  250.000000\n"
          ]
        },
        {
          "output_type": "stream",
          "name": "stderr",
          "text": [
            "<ipython-input-13-b40f1a830e51>:17: FutureWarning: The default value of numeric_only in DataFrameGroupBy.sum is deprecated. In a future version, numeric_only will default to False. Either specify numeric_only or select only columns which should be valid for the function.\n",
            "  print(dComp.sum())\n",
            "<ipython-input-13-b40f1a830e51>:18: FutureWarning: The default value of numeric_only in DataFrameGroupBy.mean is deprecated. In a future version, numeric_only will default to False. Either specify numeric_only or select only columns which should be valid for the function.\n",
            "  print(dComp.mean())\n",
            "<ipython-input-13-b40f1a830e51>:19: FutureWarning: The default value of numeric_only in DataFrameGroupBy.std is deprecated. In a future version, numeric_only will default to False. Either specify numeric_only or select only columns which should be valid for the function.\n",
            "  print(dComp.std())\n"
          ]
        }
      ],
      "source": [
        "#It allows us to group together rows based off a column and perform an aggregate function\n",
        "\n",
        "import numpy as np\n",
        "import pandas as pd\n",
        "\n",
        "data = {'Company': ['GOOG', 'GOOG', 'MSFT', 'MSFT', 'FB', 'FB'], \n",
        "        'Person': ['Sam', 'Charlie', 'Amy', 'Vanessa', 'Carl', 'Sarah'],\n",
        "        'Sales': [200, 120, 340, 124, 243, 350],\n",
        "        'Profit': [100, 150, 200, 250, 300, 350]}\n",
        "\n",
        "df = pd.DataFrame(data)\n",
        "\n",
        "print(df)\n",
        "\n",
        "dComp = df.groupby('Company')\n",
        "\n",
        "print(dComp.sum())\n",
        "print(dComp.mean())\n",
        "print(dComp.std())\n",
        "print(dComp.max())\n",
        "print(dComp.min())\n",
        "print(dComp.describe())\n",
        "print(dComp.describe().transpose())"
      ]
    }
  ],
  "metadata": {
    "colab": {
      "provenance": [],
      "authorship_tag": "ABX9TyOcBjBwRhCQJ/IirAzg0clj",
      "include_colab_link": true
    },
    "kernelspec": {
      "display_name": "Python 3",
      "name": "python3"
    },
    "language_info": {
      "name": "python"
    }
  },
  "nbformat": 4,
  "nbformat_minor": 0
}